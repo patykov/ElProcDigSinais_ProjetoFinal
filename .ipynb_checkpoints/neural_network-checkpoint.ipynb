{
 "cells": [
  {
   "cell_type": "code",
   "execution_count": 1,
   "metadata": {},
   "outputs": [],
   "source": [
    "import os\n",
    "import time\n",
    "import numpy as np\n",
    "import matplotlib.pyplot as plt\n",
    "\n",
    "from sklearn.ensemble import RandomForestClassifier\n",
    "from sklearn.datasets import make_classification\n",
    "from sklearn.metrics import average_precision_score, precision_recall_curve, precision_recall_fscore_support"
   ]
  },
  {
   "cell_type": "code",
   "execution_count": 2,
   "metadata": {},
   "outputs": [
    {
     "name": "stderr",
     "output_type": "stream",
     "text": [
      "C:\\Users\\v-pakova\\AppData\\Local\\Continuum\\anaconda3\\lib\\site-packages\\ipykernel_launcher.py:23: VisibleDeprecationWarning: Reading unicode strings without specifying the encoding argument is deprecated. Set the encoding, use None for the system default.\n"
     ]
    }
   ],
   "source": [
    "### READING DATASET ###\n",
    "\n",
    "# Paths\n",
    "dataset_path = 'Dataset'\n",
    "games_dir = next(os.walk(dataset_path))[1]\n",
    "\n",
    "tag_to_skip = ['highlights', 'highlights2', '.DS_Store', '.git']\n",
    "dt = np.dtype([('a', float), ('b', float), ('name', np.unicode_, 16)])\n",
    "\n",
    "# Iterating through games\n",
    "games_data = []\n",
    "games_path = [os.path.join(dataset_path, g) for g in games_dir]\n",
    "for path in games_path:\n",
    "    game_name = os.path.basename(path)\n",
    "    if game_name != 'ned_svk':\n",
    "        game_info = os.listdir(path)\n",
    "        data = dict()\n",
    "        for info in game_info:\n",
    "            tag_name = os.path.splitext(info)[0]\n",
    "            if tag_name not in tag_to_skip:\n",
    "                csv_file = os.path.join(path, info)\n",
    "                if tag_name == 'highlights_boundaries':\n",
    "                    data_value = np.genfromtxt(csv_file, delimiter=',', dtype=None)\n",
    "                else:\n",
    "                    data_value = np.fromfile(csv_file, dtype=np.float64)\n",
    "                data[tag_name] = data_value\n",
    "            data['name'] = game_name\n",
    "        games_data.append(data)\n",
    "\n",
    "games_backup = games_data[:]"
   ]
  },
  {
   "cell_type": "code",
   "execution_count": 3,
   "metadata": {},
   "outputs": [
    {
     "data": {
      "text/plain": [
       "dict_keys(['dc_hue_mean', 'name', 'dc_percent', 'em_cs_energy', 'em_cs_energy_diff', 'em_cs_energy_diff_ascending', 'em_mcs_energy', 'em_mcs_energy_diff', 'em_mcs_energy_diff_ascending', 'em_st_energy', 'em_st_energy_diff', 'em_st_energy_diff_ascending', 'highlights_boundaries', 'pc_delta', 'pc_rho', 'pc_theta', 'pc_var_delta', 'pc_var_theta', 'pm_pitch', 'pm_pitch_diff', 'pm_pitch_diff_ascending'])"
      ]
     },
     "execution_count": 3,
     "metadata": {},
     "output_type": "execute_result"
    }
   ],
   "source": [
    "games_data[0].keys()"
   ]
  },
  {
   "cell_type": "code",
   "execution_count": 4,
   "metadata": {},
   "outputs": [],
   "source": [
    "### CRIANDO VETOR DE GT ###\n",
    "\n",
    "normal_cases = ['Normal', 'Inicio', 'Fim']\n",
    "\n",
    "for game in games_data:\n",
    "    h = game['highlights_boundaries']\n",
    "    end = h[-1][0]\n",
    "    gt = np.zeros(end)\n",
    "    for line in h[:-1]:\n",
    "        tag = line[2].decode('UTF-8').split(' ')\n",
    "        name = [t for t in tag if t != ''][0]\n",
    "        if name not in normal_cases:\n",
    "            gt[line[0]-1:line[1]] = 1\n",
    "    game['gt'] = gt\n",
    "    del game['highlights_boundaries']"
   ]
  },
  {
   "cell_type": "code",
   "execution_count": 5,
   "metadata": {},
   "outputs": [],
   "source": [
    "### REMOVENDO VALORES CORRELACIONADOS ###\n",
    "\n",
    "to_remove = ['em_mcs_energy', 'em_mcs_energy_diff', 'em_mcs_energy_diff_ascending']\n",
    "for game in games_data:\n",
    "    for tag in to_remove:\n",
    "        del game[tag]"
   ]
  },
  {
   "cell_type": "code",
   "execution_count": 6,
   "metadata": {},
   "outputs": [],
   "source": [
    "### CORTANDO VALORES EXCEDENTES PARA QUE TODOS OS DADOS TENHAM O MESMO TAMANHO ###\n",
    "\n",
    "for game in games_data:\n",
    "    values = [len(v) for k, v in game.items() if k not in ['name']]\n",
    "    min_l = min(values)\n",
    "    for k, v in game.items():\n",
    "        if len(v) > min_l:\n",
    "            game[k] = v[:min_l]\n",
    "            \n",
    "\n",
    "### ZERO PADDING ###\n",
    "max_length = 0\n",
    "for game in games_data:\n",
    "    values = [len(v) for k, v in game.items() if k not in ['name']]\n",
    "    max_length = max(values) if max(values)>max_length else max_length\n",
    "\n",
    "for game in games_data:\n",
    "    for k, v in game.items():\n",
    "        if k not in ['name']:\n",
    "            zero_v = np.zeros(max_length)\n",
    "            if len(v) < max_length:\n",
    "                zero_v[:len(v)] = v\n",
    "                game[k] = zero_v"
   ]
  },
  {
   "cell_type": "code",
   "execution_count": 7,
   "metadata": {},
   "outputs": [
    {
     "name": "stdout",
     "output_type": "stream",
     "text": [
      "Total train: 22\n",
      "Total test: 5\n",
      "Total val: 2\n"
     ]
    }
   ],
   "source": [
    "### DIVIDING SPLITS FROM TRAIN, EVAL, TEST ###\n",
    "\n",
    "from sklearn.model_selection import train_test_split\n",
    "\n",
    "games_name = [g['name'] for g in games_data]\n",
    "games_train1, games_test = train_test_split(games_name, test_size=0.15)\n",
    "games_train2, games_val = train_test_split(games_train1, test_size=0.05)\n",
    "\n",
    "print('Total train: {}'.format(len(games_train2)))\n",
    "print('Total test: {}'.format(len(games_test)))\n",
    "print('Total val: {}'.format(len(games_val)))"
   ]
  },
  {
   "cell_type": "code",
   "execution_count": 12,
   "metadata": {},
   "outputs": [
    {
     "name": "stdout",
     "output_type": "stream",
     "text": [
      "0 - dc_hue_mean\n",
      "1 - name\n",
      "2 - dc_percent\n",
      "3 - em_cs_energy\n",
      "4 - em_cs_energy_diff\n",
      "5 - em_cs_energy_diff_ascending\n",
      "6 - em_st_energy\n",
      "7 - em_st_energy_diff\n",
      "8 - em_st_energy_diff_ascending\n",
      "9 - pc_delta\n",
      "10 - pc_rho\n",
      "11 - pc_theta\n",
      "12 - pc_var_delta\n",
      "13 - pc_var_theta\n",
      "14 - pm_pitch\n",
      "15 - pm_pitch_diff\n",
      "16 - pm_pitch_diff_ascending\n",
      "17 - gt\n",
      "\n",
      "nme_id: 1, gt_id: 17\n"
     ]
    }
   ],
   "source": [
    "for i, tag_name in enumerate(games_data[10].keys()):\n",
    "    print('{} - {}'.format(i, tag_name))\n",
    "    if tag_name == 'name':\n",
    "        name_id = i\n",
    "    if tag_name == 'gt':\n",
    "        gt_id = i\n",
    "        \n",
    "print('\\nnme_id: {}, gt_id: {}'.format(name_id, gt_id))"
   ]
  },
  {
   "cell_type": "code",
   "execution_count": 20,
   "metadata": {},
   "outputs": [
    {
     "name": "stdout",
     "output_type": "stream",
     "text": [
      "Train (5278776, 16) (5278776,)\n",
      "Test (1099745, 16) (1099745,)\n"
     ]
    }
   ],
   "source": [
    "X_train = []\n",
    "y_train = []\n",
    "\n",
    "for game in games_data:\n",
    "    if game['name'] in games_train1:\n",
    "        values_array = np.array(list(game.values()))\n",
    "        # Getting GT\n",
    "        y_train += list(values_array[gt_id])\n",
    "        \n",
    "        # Removing name and GT to train\n",
    "        values_array = np.delete(values_array, (max(name_id, gt_id)), axis=0)\n",
    "        values_array = np.delete(values_array, (min(name_id, gt_id)), axis=0)\n",
    "        \n",
    "        values_array = np.array(values_array[:].tolist())\n",
    "        if len(X_train) == 0:\n",
    "            X_train = np.transpose(values_array)\n",
    "        else:\n",
    "            X_train = np.concatenate((X_train, np.transpose(values_array)))\n",
    "y_train = np.array(y_train)    \n",
    "\n",
    "\n",
    "X_test = []\n",
    "y_test = []\n",
    "\n",
    "for game in games_data:\n",
    "    if game['name'] in games_test:\n",
    "        values_array = np.array(list(game.values()))\n",
    "        # Getting GT\n",
    "        y_test += list(values_array[gt_id])\n",
    "        \n",
    "        # Removing name and GT to train\n",
    "        values_array = np.delete(values_array, (max(name_id, gt_id)), axis=0)\n",
    "        values_array = np.delete(values_array, (min(name_id, gt_id)), axis=0)\n",
    "        \n",
    "        values_array = np.array(values_array[:].tolist())\n",
    "        if len(X_test) == 0:\n",
    "            X_test = np.transpose(values_array)\n",
    "        else:\n",
    "            X_test = np.concatenate((X_test, np.transpose(values_array)))\n",
    "y_test = np.array(y_test)\n",
    "            \n",
    "\n",
    "print('Train', X_train.shape, y_train.shape)\n",
    "print('Test', X_test.shape, y_test.shape)"
   ]
  },
  {
   "cell_type": "code",
   "execution_count": 29,
   "metadata": {},
   "outputs": [
    {
     "name": "stdout",
     "output_type": "stream",
     "text": [
      "RandomForestClassifier(bootstrap=True, class_weight='balanced',\n",
      "            criterion='gini', max_depth=2, max_features='auto',\n",
      "            max_leaf_nodes=None, min_impurity_decrease=0.0,\n",
      "            min_impurity_split=None, min_samples_leaf=1,\n",
      "            min_samples_split=2, min_weight_fraction_leaf=0.0,\n",
      "            n_estimators=10, n_jobs=1, oob_score=False, random_state=None,\n",
      "            verbose=0, warm_start=False)\n",
      "Average precision-recall score: 0.01\n"
     ]
    },
    {
     "name": "stderr",
     "output_type": "stream",
     "text": [
      "C:\\Users\\v-pakova\\AppData\\Local\\Continuum\\anaconda3\\lib\\site-packages\\sklearn\\metrics\\classification.py:1135: UndefinedMetricWarning: Precision and F-score are ill-defined and being set to 0.0 in labels with no predicted samples.\n",
      "  'precision', 'predicted', average, warn_for)\n"
     ]
    },
    {
     "name": "stdout",
     "output_type": "stream",
     "text": [
      "Precision: [0.98598857 0.        ]\n",
      "Recall: [1. 0.]\n"
     ]
    },
    {
     "data": {
      "image/png": "[encoded data removed]",
      "text/plain": [
       "<matplotlib.figure.Figure at 0x20701109860>"
      ]
     },
     "metadata": {},
     "output_type": "display_data"
    }
   ],
   "source": [
    "clf = RandomForestClassifier(class_weight='balanced', max_depth=2)\n",
    "clf.fit(X_train, y_train)\n",
    "print(clf)\n",
    "\n",
    "# Getting predictions\n",
    "y_predictions = clf.predict_proba(X_test)\n",
    "y_score = clf.predict(X_test)\n",
    "\n",
    "# Calculating average precision\n",
    "average_precision = average_precision_score(y_test, y_score)\n",
    "print('Average precision-recall score: {0:0.2f}'.format(average_precision))\n",
    "\n",
    "# Getting precision and recall\n",
    "p_r_fs = precision_recall_fscore_support(y_test, y_score)\n",
    "print('Precision: {}'.format(p_r_fs[0]))\n",
    "print('Recall: {}'.format(p_r_fs[1]))\n",
    "\n",
    "# Plotting PR curve\n",
    "precision, recall, _ = precision_recall_curve(y_test, y_predictions[:, 1])\n",
    "\n",
    "plt.step(recall, precision, color='b', alpha=0.2, where='post')\n",
    "plt.fill_between(recall, precision, step='post', alpha=0.2, color='b')\n",
    "\n",
    "plt.xlabel('Recall')\n",
    "plt.ylabel('Precision')\n",
    "plt.ylim([0.0, 1.05])\n",
    "plt.xlim([0.0, 1.0])\n",
    "plt.title('2-class Precision-Recall curve: AP={0:0.2f}'.format(average_precision))\n",
    "plt.show()"
   ]
  },
  {
   "cell_type": "code",
   "execution_count": 33,
   "metadata": {},
   "outputs": [
    {
     "data": {
      "text/plain": [
       "(array([0., 1.]), array([216841,   3108], dtype=int64))"
      ]
     },
     "execution_count": 33,
     "metadata": {},
     "output_type": "execute_result"
    }
   ],
   "source": [
    "np.unique(games_data[0]['gt'], return_counts=True)"
   ]
  },
  {
   "cell_type": "code",
   "execution_count": null,
   "metadata": {
    "scrolled": true
   },
   "outputs": [
    {
     "name": "stdout",
     "output_type": "stream",
     "text": [
      "(5278776,)\n"
     ]
    }
   ],
   "source": [
    "new_keys = list(games_data[0].keys())\n",
    "new_keys.remove('gt')\n",
    "new_keys.remove('name')\n",
    "\n",
    "for feature in range(X_train.shape[1]):\n",
    "    new_X_train = X_train[:, feature]\n",
    "    new_X_test = X_test[:, feature]\n",
    "    \n",
    "    start_time = time.clock()\n",
    "    new_clf = RandomForestClassifier(class_weight='balanced')\n",
    "    new_clf.fit(new_X_train[:, None], y_train)\n",
    "    \n",
    "    new_y_score = new_clf.predict(new_X_test[:, None])\n",
    "    new_average_precision = average_precision_score(y_test, new_y_score)\n",
    "    new_p_r_fs = precision_recall_fscore_support(y_test, new_y_score)\n",
    "\n",
    "    print(new_keys[feature])\n",
    "    print('\\tAverage precision-recall score: {0:0.2f}'.format(new_average_precision))\n",
    "    print('\\tPrecision: {}'.format(new_p_r_fs[0]))\n",
    "    print('\\tRecall: {}'.format(new_p_r_fs[1]))\n",
    "    print('\\tTime: {:.5f} seconds'.format(time.clock() - start_time))\n",
    "    "
   ]
  },
  {
   "cell_type": "code",
   "execution_count": null,
   "metadata": {},
   "outputs": [],
   "source": [
    "new_keys = list(games_data[0].keys())\n",
    "new_keys.remove('gt')\n",
    "new_keys.remove('name')\n",
    "\n",
    "for feature1 in range(X_train.shape[1]):\n",
    "    new_X_train1 = X_train[:, feature1]\n",
    "    new_X_test1 = X_test[:, feature1]\n",
    "    for feature2 in range(feature1, X_train.shape[1]):\n",
    "        new_X_train2 = X_train[:, feature2]\n",
    "        new_X_test2 = X_test[:, feature2]\n",
    "        \n",
    "        new_X_train = np.concatenate((new_X_train1, new_X_train2), axis=0)\n",
    "        \n",
    "        print(new_X_train.shape)\n",
    "        raise Exception\n",
    "\n",
    "        start_time = time.clock()\n",
    "        new_clf = RandomForestClassifier()\n",
    "        new_clf.fit(new_X_train[:, None], y_train)\n",
    "\n",
    "        new_y_score = new_clf.predict(new_X_test[:, None])\n",
    "        new_average_precision = average_precision_score(y_test, new_y_score)\n",
    "        new_p_r_fs = precision_recall_fscore_support(y_test, new_y_score)\n",
    "\n",
    "        print(new_keys[feature])\n",
    "        print('\\tAverage precision-recall score: {0:0.2f}'.format(new_average_precision))\n",
    "        print('\\tPrecision: {}'.format(new_p_r_fs[0]))\n",
    "        print('\\tRecall: {}'.format(new_p_r_fs[1]))\n",
    "        print('\\tTime: {:.5f} seconds'.format(time.clock() - start_time))"
   ]
  },
  {
   "cell_type": "code",
   "execution_count": null,
   "metadata": {},
   "outputs": [],
   "source": [
    "new_keys"
   ]
  },
  {
   "cell_type": "code",
   "execution_count": null,
   "metadata": {},
   "outputs": [],
   "source": []
  }
 ],
 "metadata": {
  "kernelspec": {
   "display_name": "Python 3",
   "language": "python",
   "name": "python3"
  },
  "language_info": {
   "codemirror_mode": {
    "name": "ipython",
    "version": 3
   },
   "file_extension": ".py",
   "mimetype": "text/x-python",
   "name": "python",
   "nbconvert_exporter": "python",
   "pygments_lexer": "ipython3",
   "version": "3.6.4"
  }
 },
 "nbformat": 4,
 "nbformat_minor": 1
}
