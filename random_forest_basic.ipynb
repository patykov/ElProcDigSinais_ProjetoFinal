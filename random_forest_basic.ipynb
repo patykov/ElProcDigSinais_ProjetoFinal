{
 "cells": [
  {
   "cell_type": "code",
   "execution_count": 1,
   "metadata": {},
   "outputs": [
    {
     "name": "stderr",
     "output_type": "stream",
     "text": [
      "C:\\Users\\v-pakova\\AppData\\Local\\Continuum\\anaconda3\\lib\\site-packages\\sklearn\\ensemble\\weight_boosting.py:29: DeprecationWarning: numpy.core.umath_tests is an internal NumPy module and should not be imported. It will be removed in a future NumPy release.\n",
      "  from numpy.core.umath_tests import inner1d\n"
     ]
    }
   ],
   "source": [
    "import os\n",
    "import time\n",
    "import collections\n",
    "import numpy as np\n",
    "import matplotlib.pyplot as plt\n",
    "\n",
    "from sklearn.ensemble import RandomForestClassifier\n",
    "from sklearn.datasets import make_classification\n",
    "from sklearn.preprocessing import normalize\n",
    "from sklearn.metrics import classification_report,confusion_matrix\n",
    "from sklearn.metrics import average_precision_score, precision_recall_curve, precision_recall_fscore_support"
   ]
  },
  {
   "cell_type": "code",
   "execution_count": 2,
   "metadata": {},
   "outputs": [
    {
     "name": "stderr",
     "output_type": "stream",
     "text": [
      "C:\\Users\\v-pakova\\AppData\\Local\\Continuum\\anaconda3\\lib\\site-packages\\ipykernel_launcher.py:23: VisibleDeprecationWarning: Reading unicode strings without specifying the encoding argument is deprecated. Set the encoding, use None for the system default.\n"
     ]
    }
   ],
   "source": [
    "### READING DATASET ###\n",
    "\n",
    "# Paths\n",
    "dataset_path = 'Dataset'\n",
    "games_dir = next(os.walk(dataset_path))[1]\n",
    "\n",
    "tag_to_skip = [\n",
    "    'highlights', 'highlights2', '.DS_Store', '.git', \n",
    "    'em_mcs_energy_diff_ascending', 'em_mcs_energy_diff', 'em_mcs_energy']\n",
    "\n",
    "# Iterating through games\n",
    "games_data = []\n",
    "games_path = [os.path.join(dataset_path, g) for g in games_dir]\n",
    "for path in games_path:\n",
    "    game_name = os.path.basename(path)\n",
    "    game_info = os.listdir(path)\n",
    "    data = collections.OrderedDict()\n",
    "    for info in game_info:\n",
    "        tag_name = os.path.splitext(info)[0]\n",
    "        if tag_name not in tag_to_skip:\n",
    "            csv_file = os.path.join(path, info)\n",
    "            if tag_name == 'highlights_boundaries':\n",
    "                data_value = np.genfromtxt(csv_file, delimiter=',', dtype=None)\n",
    "            else:\n",
    "                data_value = np.fromfile(csv_file, sep=' ')\n",
    "            data[tag_name] = data_value\n",
    "    data['name'] = game_name\n",
    "    games_data.append(data)\n",
    "\n",
    "games_backup = games_data[:]\n",
    "\n",
    "\n",
    "### CRIANDO VETOR DE GT ###\n",
    "\n",
    "wanted_cases = ['Gol', 'Perigo']\n",
    "to_skip = ['name', 'highlights_boundaries']\n",
    "\n",
    "for game in games_data:\n",
    "    h = game['highlights_boundaries']\n",
    "    end = h[-1][0]\n",
    "    gt = np.zeros(end)\n",
    "    for line in h:\n",
    "        tag = line[2].decode('UTF-8').split(' ')\n",
    "        name = [t for t in tag if t != ''][-1]\n",
    "        if name in wanted_cases:\n",
    "            gt[line[0]-1:line[1]] = 1                   \n",
    "            \n",
    "    game['gt'] = gt\n",
    "    del game['highlights_boundaries']\n",
    "    \n",
    "### CORTANDO VALORES EXCEDENTES PARA QUE TODOS OS DADOS TENHAM O MESMO TAMANHO ###\n",
    "\n",
    "for game in games_data:\n",
    "    values = [len(v) for k, v in game.items() if k not in ['name']]\n",
    "    min_l = min(values)\n",
    "    for k, v in game.items():\n",
    "        if len(v) > min_l:\n",
    "            game[k] = v[:min_l]\n",
    "            \n",
    "\n",
    "### ZERO PADDING ###\n",
    "max_length = 0\n",
    "for game in games_data:\n",
    "    values = [len(v) for k, v in game.items() if k not in ['name']]\n",
    "    max_length = max(values) if max(values)>max_length else max_length\n",
    "\n",
    "for game in games_data:\n",
    "    for k, v in game.items():\n",
    "        if k not in ['name']:\n",
    "            zero_v = np.zeros(max_length)\n",
    "            if len(v) < max_length:\n",
    "                zero_v[:len(v)] = v\n",
    "                game[k] = zero_v"
   ]
  },
  {
   "cell_type": "code",
   "execution_count": 13,
   "metadata": {},
   "outputs": [],
   "source": [
    "def get_frames_ids(gt):\n",
    "    u, counts = np.unique(gt, return_counts=True)\n",
    "    ind_0 = [i for i, v in enumerate(gt) if v == 0.0]\n",
    "    ind_1 = [i for i, v in enumerate(gt) if v == 1.0]\n",
    "    \n",
    "    ind_0_ids = np.linspace(0, counts[0]-1, counts[1], dtype=int)\n",
    "    new_ind_0 = [ind_0[j] for j in ind_0_ids]\n",
    "    \n",
    "    return sorted(new_ind_0 + ind_1)\n",
    "\n",
    "\n",
    "\n",
    "def get_matrix(restriction, norm=True):\n",
    "    data = []\n",
    "    gt = []\n",
    "    for game in games_data:\n",
    "        if game['name'] in restriction:\n",
    "            values_array = np.array(list(game.values()))\n",
    "\n",
    "            # Getting GT\n",
    "            gt_game = list(values_array[gt_id])\n",
    "\n",
    "            # Removing name and GT to train\n",
    "            values_array = np.delete(values_array, (max(name_id, gt_id)), axis=0)\n",
    "            values_array = np.delete(values_array, (min(name_id, gt_id)), axis=0)    \n",
    "\n",
    "            frames_ids = get_frames_ids(gt_game)\n",
    "            gt += [gt_game[i] for i in frames_ids]\n",
    "\n",
    "            game_features = []\n",
    "            for feature in values_array:\n",
    "                    \n",
    "                if norm:\n",
    "                    # Normalizing\n",
    "                    M_feature = np.squeeze(normalize([feature], axis=1))\n",
    "                else:\n",
    "                    M_feature = feature\n",
    "                    \n",
    "                M_feature = M_feature[frames_ids]\n",
    "\n",
    "                M_feature = np.transpose([M_feature])\n",
    "                if len(game_features) == 0:\n",
    "                    game_features = M_feature\n",
    "                else:\n",
    "                    game_features = np.concatenate((game_features, M_feature), axis=1)\n",
    "\n",
    "            if len(data) == 0:\n",
    "                data = game_features\n",
    "            else:\n",
    "                data = np.concatenate((data, game_features), axis=0)\n",
    "\n",
    "    gt = np.array(gt)\n",
    "    \n",
    "    return data, gt"
   ]
  },
  {
   "cell_type": "code",
   "execution_count": 14,
   "metadata": {},
   "outputs": [
    {
     "name": "stdout",
     "output_type": "stream",
     "text": [
      "Total train: 28\n",
      "Total test: 2\n"
     ]
    }
   ],
   "source": [
    "### DIVIDING SPLITS FROM TRAIN, TEST ###\n",
    "\n",
    "games_test = ['chi_swi', 'san_vas']\n",
    "games_train = [g['name'] for g in games_data if g['name'] not in games_test]\n",
    "\n",
    "print('Total train: {}'.format(len(games_train)))\n",
    "print('Total test: {}'.format(len(games_test)))"
   ]
  },
  {
   "cell_type": "code",
   "execution_count": 15,
   "metadata": {},
   "outputs": [
    {
     "name": "stdout",
     "output_type": "stream",
     "text": [
      "Train (162472, 16) (162472,)\n",
      "Test (9284, 16) (9284,)\n"
     ]
    }
   ],
   "source": [
    "# SEM NORMALIZACAO\n",
    "\n",
    "for i, tag_name in enumerate(games_data[10].keys()):\n",
    "    if tag_name == 'name':\n",
    "        name_id = i\n",
    "    if tag_name == 'gt':\n",
    "        gt_id = i\n",
    "\n",
    "X_train, y_train = get_matrix(games_train, norm=False)\n",
    "\n",
    "X_test, y_test = get_matrix(games_test, norm=False)\n",
    "\n",
    "\n",
    "print('Train', X_train.shape, y_train.shape)\n",
    "print('Test', X_test.shape, y_test.shape)"
   ]
  },
  {
   "cell_type": "code",
   "execution_count": 17,
   "metadata": {
    "scrolled": false
   },
   "outputs": [
    {
     "name": "stderr",
     "output_type": "stream",
     "text": [
      "[Parallel(n_jobs=-1)]: Done  10 out of  10 | elapsed:    3.6s finished\n",
      "[Parallel(n_jobs=4)]: Done  10 out of  10 | elapsed:    0.0s finished\n",
      "[Parallel(n_jobs=4)]: Done  10 out of  10 | elapsed:    0.0s finished\n"
     ]
    },
    {
     "name": "stdout",
     "output_type": "stream",
     "text": [
      "RandomForestClassifier(bootstrap=True, class_weight=None, criterion='gini',\n",
      "            max_depth=None, max_features='auto', max_leaf_nodes=None,\n",
      "            min_impurity_decrease=0.0, min_impurity_split=None,\n",
      "            min_samples_leaf=1, min_samples_split=2,\n",
      "            min_weight_fraction_leaf=0.0, n_estimators=10, n_jobs=-1,\n",
      "            oob_score=False, random_state=None, verbose=1,\n",
      "            warm_start=False)\n",
      "Average precision-recall score: 0.79\n",
      "Precision: [0.7735369 0.8979376]\n",
      "Recall: [0.91684619 0.73158121]\n",
      "[[4256  386]\n",
      " [1246 3396]]\n",
      "\n",
      "--------------------------------------------------------------\n"
     ]
    },
    {
     "name": "stderr",
     "output_type": "stream",
     "text": [
      "[Parallel(n_jobs=-1)]: Done  42 tasks      | elapsed:   16.4s\n",
      "[Parallel(n_jobs=-1)]: Done  50 out of  50 | elapsed:   18.6s finished\n",
      "[Parallel(n_jobs=4)]: Done  42 tasks      | elapsed:    0.0s\n",
      "[Parallel(n_jobs=4)]: Done  50 out of  50 | elapsed:    0.0s finished\n"
     ]
    },
    {
     "name": "stdout",
     "output_type": "stream",
     "text": [
      "RandomForestClassifier(bootstrap=True, class_weight=None, criterion='gini',\n",
      "            max_depth=None, max_features='auto', max_leaf_nodes=None,\n",
      "            min_impurity_decrease=0.0, min_impurity_split=None,\n",
      "            min_samples_leaf=1, min_samples_split=2,\n",
      "            min_weight_fraction_leaf=0.0, n_estimators=50, n_jobs=-1,\n",
      "            oob_score=False, random_state=None, verbose=1,\n",
      "            warm_start=False)\n"
     ]
    },
    {
     "name": "stderr",
     "output_type": "stream",
     "text": [
      "[Parallel(n_jobs=4)]: Done  42 tasks      | elapsed:    0.0s\n",
      "[Parallel(n_jobs=4)]: Done  50 out of  50 | elapsed:    0.0s finished\n"
     ]
    },
    {
     "name": "stdout",
     "output_type": "stream",
     "text": [
      "Average precision-recall score: 0.81\n",
      "Precision: [0.79302023 0.90505517]\n",
      "Recall: [0.92029298 0.75980181]\n",
      "[[4272  370]\n",
      " [1115 3527]]\n",
      "\n",
      "--------------------------------------------------------------\n"
     ]
    },
    {
     "name": "stderr",
     "output_type": "stream",
     "text": [
      "[Parallel(n_jobs=-1)]: Done  42 tasks      | elapsed:   17.0s\n",
      "[Parallel(n_jobs=-1)]: Done 100 out of 100 | elapsed:   37.3s finished\n",
      "[Parallel(n_jobs=4)]: Done  42 tasks      | elapsed:    0.0s\n",
      "[Parallel(n_jobs=4)]: Done 100 out of 100 | elapsed:    0.0s finished\n"
     ]
    },
    {
     "name": "stdout",
     "output_type": "stream",
     "text": [
      "RandomForestClassifier(bootstrap=True, class_weight=None, criterion='gini',\n",
      "            max_depth=None, max_features='auto', max_leaf_nodes=None,\n",
      "            min_impurity_decrease=0.0, min_impurity_split=None,\n",
      "            min_samples_leaf=1, min_samples_split=2,\n",
      "            min_weight_fraction_leaf=0.0, n_estimators=100, n_jobs=-1,\n",
      "            oob_score=False, random_state=None, verbose=1,\n",
      "            warm_start=False)\n"
     ]
    },
    {
     "name": "stderr",
     "output_type": "stream",
     "text": [
      "[Parallel(n_jobs=4)]: Done  42 tasks      | elapsed:    0.0s\n",
      "[Parallel(n_jobs=4)]: Done 100 out of 100 | elapsed:    0.1s finished\n"
     ]
    },
    {
     "name": "stdout",
     "output_type": "stream",
     "text": [
      "Average precision-recall score: 0.81\n",
      "Precision: [0.80033777 0.90467762]\n",
      "Recall: [0.91878501 0.77078845]\n",
      "[[4265  377]\n",
      " [1064 3578]]\n",
      "\n",
      "--------------------------------------------------------------\n"
     ]
    },
    {
     "name": "stderr",
     "output_type": "stream",
     "text": [
      "[Parallel(n_jobs=-1)]: Done  42 tasks      | elapsed:   14.3s\n",
      "[Parallel(n_jobs=-1)]: Done 150 out of 150 | elapsed:   54.0s finished\n",
      "[Parallel(n_jobs=4)]: Done  42 tasks      | elapsed:    0.0s\n"
     ]
    },
    {
     "name": "stdout",
     "output_type": "stream",
     "text": [
      "RandomForestClassifier(bootstrap=True, class_weight=None, criterion='gini',\n",
      "            max_depth=None, max_features='auto', max_leaf_nodes=None,\n",
      "            min_impurity_decrease=0.0, min_impurity_split=None,\n",
      "            min_samples_leaf=1, min_samples_split=2,\n",
      "            min_weight_fraction_leaf=0.0, n_estimators=150, n_jobs=-1,\n",
      "            oob_score=False, random_state=None, verbose=1,\n",
      "            warm_start=False)\n"
     ]
    },
    {
     "name": "stderr",
     "output_type": "stream",
     "text": [
      "[Parallel(n_jobs=4)]: Done 150 out of 150 | elapsed:    0.1s finished\n",
      "[Parallel(n_jobs=4)]: Done  42 tasks      | elapsed:    0.0s\n",
      "[Parallel(n_jobs=4)]: Done 150 out of 150 | elapsed:    0.1s finished\n"
     ]
    },
    {
     "name": "stdout",
     "output_type": "stream",
     "text": [
      "Average precision-recall score: 0.82\n",
      "Precision: [0.80356808 0.90831018]\n",
      "Recall: [0.92180095 0.77466609]\n",
      "[[4279  363]\n",
      " [1046 3596]]\n",
      "\n",
      "--------------------------------------------------------------\n"
     ]
    },
    {
     "data": {
      "image/png": "[encoded data removed]",
      "text/plain": [
       "<matplotlib.figure.Figure at 0x21c8a2af978>"
      ]
     },
     "metadata": {},
     "output_type": "display_data"
    }
   ],
   "source": [
    "# SEM NORMALIZACAO\n",
    "\n",
    "estimators = [10, 50, 100, 150]\n",
    "models_norm = []\n",
    "plt.figure(figsize=(16,10))\n",
    "for i, n_est in enumerate(estimators):\n",
    "    clf = RandomForestClassifier(n_estimators=n_est, verbose=1, n_jobs=-1)\n",
    "    clf.fit(X_train, y_train)\n",
    "    models_norm.append(clf)\n",
    "    print(clf)\n",
    "\n",
    "    # Getting predictions\n",
    "    y_predictions = clf.predict_proba(X_test)\n",
    "    y_score = clf.predict(X_test)\n",
    "\n",
    "    # Calculating average precision\n",
    "    average_precision = average_precision_score(y_test, y_score)\n",
    "    print('Average precision-recall score: {0:0.2f}'.format(average_precision))\n",
    "\n",
    "    # Getting precision and recall\n",
    "    p_r_fs = precision_recall_fscore_support(y_test, y_score)\n",
    "    print('Precision: {}'.format(p_r_fs[0]))\n",
    "    print('Recall: {}'.format(p_r_fs[1]))\n",
    "\n",
    "    print(confusion_matrix(y_test,y_score))\n",
    "\n",
    "    # Plotting PR curve\n",
    "    precision, recall, _ = precision_recall_curve(y_test, y_predictions[:, 1])\n",
    "\n",
    "    plt.subplot(2,2,i+1)\n",
    "    plt.step(recall, precision, color='b', alpha=0.2, where='post')\n",
    "    plt.fill_between(recall, precision, step='post', alpha=0.2, color='b')\n",
    "\n",
    "    plt.xlabel('Recall')\n",
    "    plt.ylabel('Precision')\n",
    "    plt.ylim([0.0, 1.05])\n",
    "    plt.xlim([0.0, 1.0])\n",
    "    plt.title('Precision-Recall curve: AP={:.2f} for N = {}'.format(average_precision, n_est))\n",
    "    print('\\n--------------------------------------------------------------')\n",
    "plt.show()"
   ]
  },
  {
   "cell_type": "code",
   "execution_count": 50,
   "metadata": {},
   "outputs": [
    {
     "name": "stdout",
     "output_type": "stream",
     "text": [
      "Train (162472, 16) (162472,)\n",
      "Test (9284, 16) (9284,)\n"
     ]
    }
   ],
   "source": [
    "# COM NORMALIZACAO\n",
    "\n",
    "for i, tag_name in enumerate(games_data[10].keys()):\n",
    "    if tag_name == 'name':\n",
    "        name_id = i\n",
    "    if tag_name == 'gt':\n",
    "        gt_id = i\n",
    "\n",
    "X_train, y_train = get_matrix(games_train)\n",
    "\n",
    "X_test, y_test = get_matrix(games_test)\n",
    "\n",
    "\n",
    "print('Train', X_train.shape, y_train.shape)\n",
    "print('Test', X_test.shape, y_test.shape)"
   ]
  },
  {
   "cell_type": "code",
   "execution_count": 51,
   "metadata": {
    "scrolled": false
   },
   "outputs": [
    {
     "name": "stderr",
     "output_type": "stream",
     "text": [
      "[Parallel(n_jobs=-1)]: Done  10 out of  10 | elapsed:    2.4s finished\n",
      "[Parallel(n_jobs=4)]: Done  10 out of  10 | elapsed:    0.0s finished\n",
      "[Parallel(n_jobs=4)]: Done  10 out of  10 | elapsed:    0.0s finished\n"
     ]
    },
    {
     "name": "stdout",
     "output_type": "stream",
     "text": [
      "RandomForestClassifier(bootstrap=True, class_weight=None, criterion='gini',\n",
      "            max_depth=None, max_features='auto', max_leaf_nodes=None,\n",
      "            min_impurity_decrease=0.0, min_impurity_split=None,\n",
      "            min_samples_leaf=1, min_samples_split=2,\n",
      "            min_weight_fraction_leaf=0.0, n_estimators=10, n_jobs=-1,\n",
      "            oob_score=False, random_state=None, verbose=1,\n",
      "            warm_start=False)\n",
      "Average precision-recall score: 0.79\n",
      "Precision: [0.77010458 0.90074906]\n",
      "Recall: [0.92007755 0.72533391]\n",
      "[[4271  371]\n",
      " [1275 3367]]\n",
      "\n",
      "--------------------------------------------------------------\n"
     ]
    },
    {
     "name": "stderr",
     "output_type": "stream",
     "text": [
      "[Parallel(n_jobs=-1)]: Done  42 tasks      | elapsed:   11.0s\n",
      "[Parallel(n_jobs=-1)]: Done  50 out of  50 | elapsed:   13.0s finished\n",
      "[Parallel(n_jobs=4)]: Done  42 tasks      | elapsed:    0.0s\n",
      "[Parallel(n_jobs=4)]: Done  50 out of  50 | elapsed:    0.0s finished\n"
     ]
    },
    {
     "name": "stdout",
     "output_type": "stream",
     "text": [
      "RandomForestClassifier(bootstrap=True, class_weight=None, criterion='gini',\n",
      "            max_depth=None, max_features='auto', max_leaf_nodes=None,\n",
      "            min_impurity_decrease=0.0, min_impurity_split=None,\n",
      "            min_samples_leaf=1, min_samples_split=2,\n",
      "            min_weight_fraction_leaf=0.0, n_estimators=50, n_jobs=-1,\n",
      "            oob_score=False, random_state=None, verbose=1,\n",
      "            warm_start=False)\n"
     ]
    },
    {
     "name": "stderr",
     "output_type": "stream",
     "text": [
      "[Parallel(n_jobs=4)]: Done  42 tasks      | elapsed:    0.0s\n",
      "[Parallel(n_jobs=4)]: Done  50 out of  50 | elapsed:    0.0s finished\n"
     ]
    },
    {
     "name": "stdout",
     "output_type": "stream",
     "text": [
      "Average precision-recall score: 0.80\n",
      "Precision: [0.78638802 0.89940676]\n",
      "Recall: [0.91598449 0.75118483]\n",
      "[[4252  390]\n",
      " [1155 3487]]\n",
      "\n",
      "--------------------------------------------------------------\n"
     ]
    },
    {
     "name": "stderr",
     "output_type": "stream",
     "text": [
      "[Parallel(n_jobs=-1)]: Done  42 tasks      | elapsed:   12.1s\n",
      "[Parallel(n_jobs=-1)]: Done 100 out of 100 | elapsed:   29.0s finished\n",
      "[Parallel(n_jobs=4)]: Done  42 tasks      | elapsed:    0.0s\n",
      "[Parallel(n_jobs=4)]: Done 100 out of 100 | elapsed:    0.0s finished\n"
     ]
    },
    {
     "name": "stdout",
     "output_type": "stream",
     "text": [
      "RandomForestClassifier(bootstrap=True, class_weight=None, criterion='gini',\n",
      "            max_depth=None, max_features='auto', max_leaf_nodes=None,\n",
      "            min_impurity_decrease=0.0, min_impurity_split=None,\n",
      "            min_samples_leaf=1, min_samples_split=2,\n",
      "            min_weight_fraction_leaf=0.0, n_estimators=100, n_jobs=-1,\n",
      "            oob_score=False, random_state=None, verbose=1,\n",
      "            warm_start=False)\n"
     ]
    },
    {
     "name": "stderr",
     "output_type": "stream",
     "text": [
      "[Parallel(n_jobs=4)]: Done  42 tasks      | elapsed:    0.0s\n",
      "[Parallel(n_jobs=4)]: Done 100 out of 100 | elapsed:    0.0s finished\n"
     ]
    },
    {
     "name": "stdout",
     "output_type": "stream",
     "text": [
      "Average precision-recall score: 0.80\n",
      "Precision: [0.78530552 0.89966382]\n",
      "Recall: [0.91641534 0.74946144]\n",
      "[[4254  388]\n",
      " [1163 3479]]\n",
      "\n",
      "--------------------------------------------------------------\n"
     ]
    },
    {
     "name": "stderr",
     "output_type": "stream",
     "text": [
      "[Parallel(n_jobs=-1)]: Done  42 tasks      | elapsed:   14.2s\n",
      "[Parallel(n_jobs=-1)]: Done 120 out of 120 | elapsed:   38.3s finished\n",
      "[Parallel(n_jobs=4)]: Done  42 tasks      | elapsed:    0.0s\n",
      "[Parallel(n_jobs=4)]: Done 120 out of 120 | elapsed:    0.0s finished\n"
     ]
    },
    {
     "name": "stdout",
     "output_type": "stream",
     "text": [
      "RandomForestClassifier(bootstrap=True, class_weight=None, criterion='gini',\n",
      "            max_depth=None, max_features='auto', max_leaf_nodes=None,\n",
      "            min_impurity_decrease=0.0, min_impurity_split=None,\n",
      "            min_samples_leaf=1, min_samples_split=2,\n",
      "            min_weight_fraction_leaf=0.0, n_estimators=120, n_jobs=-1,\n",
      "            oob_score=False, random_state=None, verbose=1,\n",
      "            warm_start=False)\n"
     ]
    },
    {
     "name": "stderr",
     "output_type": "stream",
     "text": [
      "[Parallel(n_jobs=4)]: Done  42 tasks      | elapsed:    0.0s\n",
      "[Parallel(n_jobs=4)]: Done 120 out of 120 | elapsed:    0.0s finished\n"
     ]
    },
    {
     "name": "stdout",
     "output_type": "stream",
     "text": [
      "Average precision-recall score: 0.80\n",
      "Precision: [0.78810891 0.9003861 ]\n",
      "Recall: [0.91663076 0.7535545 ]\n",
      "[[4255  387]\n",
      " [1144 3498]]\n",
      "\n",
      "--------------------------------------------------------------\n"
     ]
    },
    {
     "data": {
      "image/png": "[encoded data removed]",
      "text/plain": [
       "<matplotlib.figure.Figure at 0x1fc00d16eb8>"
      ]
     },
     "metadata": {},
     "output_type": "display_data"
    }
   ],
   "source": [
    "# COM NORMALIZACAO\n",
    "\n",
    "estimators = [10, 50, 100, 150]\n",
    "models = []\n",
    "plt.figure(figsize=(16,10))\n",
    "for i, n_est in enumerate(estimators):\n",
    "    clf = RandomForestClassifier(n_estimators=n_est, verbose=1, n_jobs=-1)\n",
    "    clf.fit(X_train, y_train)\n",
    "    models.append(clf)\n",
    "    print(clf)\n",
    "\n",
    "    # Getting predictions\n",
    "    y_predictions = clf.predict_proba(X_test)\n",
    "    y_score = clf.predict(X_test)\n",
    "\n",
    "    # Calculating average precision\n",
    "    average_precision = average_precision_score(y_test, y_score)\n",
    "    print('Average precision-recall score: {0:0.2f}'.format(average_precision))\n",
    "\n",
    "    # Getting precision and recall\n",
    "    p_r_fs = precision_recall_fscore_support(y_test, y_score)\n",
    "    print('Precision: {}'.format(p_r_fs[0]))\n",
    "    print('Recall: {}'.format(p_r_fs[1]))\n",
    "\n",
    "    print(confusion_matrix(y_test,y_score))\n",
    "\n",
    "    # Plotting PR curve\n",
    "    precision, recall, _ = precision_recall_curve(y_test, y_predictions[:, 1])\n",
    "\n",
    "    plt.subplot(2,2,i+1)\n",
    "    plt.step(recall, precision, color='b', alpha=0.2, where='post')\n",
    "    plt.fill_between(recall, precision, step='post', alpha=0.2, color='b')\n",
    "\n",
    "    plt.xlabel('Recall')\n",
    "    plt.ylabel('Precision')\n",
    "    plt.ylim([0.0, 1.05])\n",
    "    plt.xlim([0.0, 1.0])\n",
    "    plt.title('Precision-Recall curve: AP={:.2f} for N = {}'.format(average_precision), n_est)\n",
    "    print('\\n--------------------------------------------------------------')\n",
    "plt.show()"
   ]
  },
  {
   "cell_type": "code",
   "execution_count": 18,
   "metadata": {
    "scrolled": false
   },
   "outputs": [
    {
     "name": "stderr",
     "output_type": "stream",
     "text": [
      "[Parallel(n_jobs=-1)]: Done  42 tasks      | elapsed:   11.3s\n",
      "[Parallel(n_jobs=-1)]: Done 150 out of 150 | elapsed:   35.5s finished\n",
      "[Parallel(n_jobs=4)]: Done  42 tasks      | elapsed:    0.0s\n",
      "[Parallel(n_jobs=4)]: Done 150 out of 150 | elapsed:    0.0s finished\n"
     ]
    },
    {
     "name": "stdout",
     "output_type": "stream",
     "text": [
      "RandomForestClassifier(bootstrap=True, class_weight=None, criterion='gini',\n",
      "            max_depth=10, max_features='auto', max_leaf_nodes=None,\n",
      "            min_impurity_decrease=0.0, min_impurity_split=None,\n",
      "            min_samples_leaf=1, min_samples_split=2,\n",
      "            min_weight_fraction_leaf=0.0, n_estimators=150, n_jobs=-1,\n",
      "            oob_score=False, random_state=None, verbose=1,\n",
      "            warm_start=False)\n"
     ]
    },
    {
     "name": "stderr",
     "output_type": "stream",
     "text": [
      "[Parallel(n_jobs=4)]: Done  42 tasks      | elapsed:    0.0s\n",
      "[Parallel(n_jobs=4)]: Done 150 out of 150 | elapsed:    0.0s finished\n"
     ]
    },
    {
     "name": "stdout",
     "output_type": "stream",
     "text": [
      "Average precision-recall score: 0.81\n",
      "Precision: [0.8198515  0.89294287]\n",
      "Recall: [0.90392072 0.80137872]\n",
      "[[4196  446]\n",
      " [ 922 3720]]\n",
      "\n",
      "--------------------------------------------------------------\n"
     ]
    },
    {
     "name": "stderr",
     "output_type": "stream",
     "text": [
      "[Parallel(n_jobs=-1)]: Done  42 tasks      | elapsed:   16.0s\n",
      "[Parallel(n_jobs=-1)]: Done 150 out of 150 | elapsed:   53.8s finished\n",
      "[Parallel(n_jobs=4)]: Done  42 tasks      | elapsed:    0.0s\n",
      "[Parallel(n_jobs=4)]: Done 150 out of 150 | elapsed:    0.1s finished\n"
     ]
    },
    {
     "name": "stdout",
     "output_type": "stream",
     "text": [
      "RandomForestClassifier(bootstrap=True, class_weight=None, criterion='gini',\n",
      "            max_depth=50, max_features='auto', max_leaf_nodes=None,\n",
      "            min_impurity_decrease=0.0, min_impurity_split=None,\n",
      "            min_samples_leaf=1, min_samples_split=2,\n",
      "            min_weight_fraction_leaf=0.0, n_estimators=150, n_jobs=-1,\n",
      "            oob_score=False, random_state=None, verbose=1,\n",
      "            warm_start=False)\n"
     ]
    },
    {
     "name": "stderr",
     "output_type": "stream",
     "text": [
      "[Parallel(n_jobs=4)]: Done  42 tasks      | elapsed:    0.0s\n",
      "[Parallel(n_jobs=4)]: Done 150 out of 150 | elapsed:    0.1s finished\n"
     ]
    },
    {
     "name": "stdout",
     "output_type": "stream",
     "text": [
      "Average precision-recall score: 0.81\n",
      "Precision: [0.80108533 0.90837563]\n",
      "Recall: [0.9222318  0.77100388]\n",
      "[[4281  361]\n",
      " [1063 3579]]\n",
      "\n",
      "--------------------------------------------------------------\n"
     ]
    },
    {
     "name": "stderr",
     "output_type": "stream",
     "text": [
      "[Parallel(n_jobs=-1)]: Done  42 tasks      | elapsed:   14.3s\n",
      "[Parallel(n_jobs=-1)]: Done 150 out of 150 | elapsed:   52.6s finished\n",
      "[Parallel(n_jobs=4)]: Done  42 tasks      | elapsed:    0.0s\n"
     ]
    },
    {
     "name": "stdout",
     "output_type": "stream",
     "text": [
      "RandomForestClassifier(bootstrap=True, class_weight=None, criterion='gini',\n",
      "            max_depth=100, max_features='auto', max_leaf_nodes=None,\n",
      "            min_impurity_decrease=0.0, min_impurity_split=None,\n",
      "            min_samples_leaf=1, min_samples_split=2,\n",
      "            min_weight_fraction_leaf=0.0, n_estimators=150, n_jobs=-1,\n",
      "            oob_score=False, random_state=None, verbose=1,\n",
      "            warm_start=False)\n"
     ]
    },
    {
     "name": "stderr",
     "output_type": "stream",
     "text": [
      "[Parallel(n_jobs=4)]: Done 150 out of 150 | elapsed:    0.1s finished\n",
      "[Parallel(n_jobs=4)]: Done  42 tasks      | elapsed:    0.0s\n",
      "[Parallel(n_jobs=4)]: Done 150 out of 150 | elapsed:    0.1s finished\n"
     ]
    },
    {
     "name": "stdout",
     "output_type": "stream",
     "text": [
      "Average precision-recall score: 0.81\n",
      "Precision: [0.80161109 0.90800811]\n",
      "Recall: [0.92180095 0.77186558]\n",
      "[[4279  363]\n",
      " [1059 3583]]\n",
      "\n",
      "--------------------------------------------------------------\n"
     ]
    },
    {
     "name": "stderr",
     "output_type": "stream",
     "text": [
      "[Parallel(n_jobs=-1)]: Done  42 tasks      | elapsed:   17.8s\n",
      "[Parallel(n_jobs=-1)]: Done 150 out of 150 | elapsed:  1.0min finished\n",
      "[Parallel(n_jobs=4)]: Done  42 tasks      | elapsed:    0.0s\n"
     ]
    },
    {
     "name": "stdout",
     "output_type": "stream",
     "text": [
      "RandomForestClassifier(bootstrap=True, class_weight=None, criterion='gini',\n",
      "            max_depth=120, max_features='auto', max_leaf_nodes=None,\n",
      "            min_impurity_decrease=0.0, min_impurity_split=None,\n",
      "            min_samples_leaf=1, min_samples_split=2,\n",
      "            min_weight_fraction_leaf=0.0, n_estimators=150, n_jobs=-1,\n",
      "            oob_score=False, random_state=None, verbose=1,\n",
      "            warm_start=False)\n"
     ]
    },
    {
     "name": "stderr",
     "output_type": "stream",
     "text": [
      "[Parallel(n_jobs=4)]: Done 150 out of 150 | elapsed:    0.1s finished\n",
      "[Parallel(n_jobs=4)]: Done  42 tasks      | elapsed:    0.0s\n",
      "[Parallel(n_jobs=4)]: Done 150 out of 150 | elapsed:    0.1s finished\n"
     ]
    },
    {
     "name": "stdout",
     "output_type": "stream",
     "text": [
      "Average precision-recall score: 0.81\n",
      "Precision: [0.80059914 0.90717728]\n",
      "Recall: [0.92115467 0.77057303]\n",
      "[[4276  366]\n",
      " [1065 3577]]\n",
      "\n",
      "--------------------------------------------------------------\n"
     ]
    },
    {
     "data": {
      "image/png": "[encoded data removed]",
      "text/plain": [
       "<matplotlib.figure.Figure at 0x21c8a2af668>"
      ]
     },
     "metadata": {},
     "output_type": "display_data"
    }
   ],
   "source": [
    "# SEM NORMALIZACAO\n",
    "\n",
    "depth = [10, 50, 100, 120]\n",
    "models_2 = []\n",
    "plt.figure(figsize=(16,10))\n",
    "for i, m_dep in enumerate(depth):\n",
    "    clf = RandomForestClassifier(n_estimators=150, verbose=1, n_jobs=-1, max_depth=m_dep)\n",
    "    clf.fit(X_train, y_train)\n",
    "    models_2.append(clf)\n",
    "    print(clf)\n",
    "\n",
    "    # Getting predictions\n",
    "    y_predictions = clf.predict_proba(X_test)\n",
    "    y_score = clf.predict(X_test)\n",
    "\n",
    "    # Calculating average precision\n",
    "    average_precision = average_precision_score(y_test, y_score)\n",
    "    print('Average precision-recall score: {0:0.2f}'.format(average_precision))\n",
    "\n",
    "    # Getting precision and recall\n",
    "    p_r_fs = precision_recall_fscore_support(y_test, y_score)\n",
    "    print('Precision: {}'.format(p_r_fs[0]))\n",
    "    print('Recall: {}'.format(p_r_fs[1]))\n",
    "\n",
    "    print(confusion_matrix(y_test,y_score))\n",
    "\n",
    "    # Plotting PR curve\n",
    "    precision, recall, _ = precision_recall_curve(y_test, y_predictions[:, 1])\n",
    "\n",
    "    plt.subplot(2,2,i+1)\n",
    "    plt.step(recall, precision, color='b', alpha=0.2, where='post')\n",
    "    plt.fill_between(recall, precision, step='post', alpha=0.2, color='b')\n",
    "\n",
    "    plt.xlabel('Recall')\n",
    "    plt.ylabel('Precision')\n",
    "    plt.ylim([0.0, 1.05])\n",
    "    plt.xlim([0.0, 1.0])\n",
    "    plt.title('Precision-Recall curve: AP={:.2f} for M = {}'.format(average_precision, depth[i]))\n",
    "    print('\\n--------------------------------------------------------------')\n",
    "plt.show()"
   ]
  },
  {
   "cell_type": "code",
   "execution_count": null,
   "metadata": {},
   "outputs": [],
   "source": []
  },
  {
   "cell_type": "code",
   "execution_count": null,
   "metadata": {},
   "outputs": [],
   "source": []
  }
 ],
 "metadata": {
  "kernelspec": {
   "display_name": "Python 3",
   "language": "python",
   "name": "python3"
  },
  "language_info": {
   "codemirror_mode": {
    "name": "ipython",
    "version": 3
   },
   "file_extension": ".py",
   "mimetype": "text/x-python",
   "name": "python",
   "nbconvert_exporter": "python",
   "pygments_lexer": "ipython3",
   "version": "3.6.4"
  }
 },
 "nbformat": 4,
 "nbformat_minor": 1
}
