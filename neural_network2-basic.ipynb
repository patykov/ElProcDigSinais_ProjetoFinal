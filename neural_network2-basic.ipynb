{
 "cells": [
  {
   "cell_type": "code",
   "execution_count": 1,
   "metadata": {},
   "outputs": [
    {
     "name": "stderr",
     "output_type": "stream",
     "text": [
      "WARNING (theano.configdefaults): g++ not available, if using conda: `conda install m2w64-toolchain`\n",
      "C:\\Users\\v-pakova\\AppData\\Local\\Continuum\\anaconda3\\lib\\site-packages\\theano\\configdefaults.py:560: UserWarning: DeprecationWarning: there is no c++ compiler.This is deprecated and with Theano 0.11 a c++ compiler will be mandatory\n",
      "  warnings.warn(\"DeprecationWarning: there is no c++ compiler.\"\n",
      "WARNING (theano.configdefaults): g++ not detected ! Theano will be unable to execute optimized C-implementations (for both CPU and GPU) and will default to Python implementations. Performance will be severely degraded. To remove this warning, set Theano flags cxx to an empty string.\n",
      "WARNING (theano.tensor.blas): Using NumPy C-API based implementation for BLAS functions.\n",
      "C:\\Users\\v-pakova\\AppData\\Local\\Continuum\\anaconda3\\lib\\site-packages\\sklearn\\cross_validation.py:41: DeprecationWarning: This module was deprecated in version 0.18 in favor of the model_selection module into which all the refactored classes and functions are moved. Also note that the interface of the new CV iterators are different from that of this module. This module will be removed in 0.20.\n",
      "  \"This module will be removed in 0.20.\", DeprecationWarning)\n",
      "Theano was already imported and cannot be reconfigured.\n"
     ]
    }
   ],
   "source": [
    "import os\n",
    "import time\n",
    "import collections\n",
    "import numpy as np\n",
    "from tempfile import mkdtemp\n",
    "import matplotlib.pyplot as plt\n",
    "from sklearn.preprocessing import normalize\n",
    "\n",
    "from sklearn.metrics import average_precision_score, precision_recall_curve, precision_recall_fscore_support\n",
    "from sklearn.model_selection import train_test_split, learning_curve\n",
    "from sklearn.metrics import classification_report,confusion_matrix,average_precision_score\n",
    "\n",
    "from sknn.mlp import Classifier, Layer\n",
    "import pickle\n",
    "import sys\n",
    "import logging\n",
    "\n",
    "from sklearn.pipeline import Pipeline\n",
    "from sklearn.preprocessing import MinMaxScaler\n",
    "\n",
    "# Use the maximum number of threads for this script.\n",
    "from sknn.platform import cpu32, threading"
   ]
  },
  {
   "cell_type": "code",
   "execution_count": 2,
   "metadata": {},
   "outputs": [
    {
     "name": "stderr",
     "output_type": "stream",
     "text": [
      "C:\\Users\\v-pakova\\AppData\\Local\\Continuum\\anaconda3\\lib\\site-packages\\ipykernel_launcher.py:23: VisibleDeprecationWarning: Reading unicode strings without specifying the encoding argument is deprecated. Set the encoding, use None for the system default.\n"
     ]
    }
   ],
   "source": [
    "### READING DATASET ###\n",
    "\n",
    "# Paths\n",
    "dataset_path = 'Dataset'\n",
    "games_dir = next(os.walk(dataset_path))[1]\n",
    "\n",
    "tag_to_skip = [\n",
    "    'highlights', 'highlights2', '.DS_Store', '.git', \n",
    "    'em_mcs_energy_diff_ascending', 'em_mcs_energy_diff', 'em_mcs_energy']\n",
    "\n",
    "# Iterating through games\n",
    "games_data = []\n",
    "games_path = [os.path.join(dataset_path, g) for g in games_dir]\n",
    "for path in games_path:\n",
    "    game_name = os.path.basename(path)\n",
    "    game_info = os.listdir(path)\n",
    "    data = collections.OrderedDict()\n",
    "    for info in game_info:\n",
    "        tag_name = os.path.splitext(info)[0]\n",
    "        if tag_name not in tag_to_skip:\n",
    "            csv_file = os.path.join(path, info)\n",
    "            if tag_name == 'highlights_boundaries':\n",
    "                data_value = np.genfromtxt(csv_file, delimiter=',', dtype=None)\n",
    "            else:\n",
    "                data_value = np.fromfile(csv_file, sep=' ')\n",
    "            data[tag_name] = data_value\n",
    "    data['name'] = game_name\n",
    "    games_data.append(data)\n",
    "\n",
    "games_backup = games_data[:]"
   ]
  },
  {
   "cell_type": "code",
   "execution_count": 3,
   "metadata": {},
   "outputs": [],
   "source": [
    "### CRIANDO VETOR DE GT ###\n",
    "\n",
    "wanted_cases = ['Gol', 'Perigo']\n",
    "to_skip = ['name', 'highlights_boundaries']\n",
    "\n",
    "for game in games_data:\n",
    "    h = game['highlights_boundaries']\n",
    "    end = h[-1][0]\n",
    "    gt = np.zeros(end)\n",
    "    for line in h:\n",
    "        tag = line[2].decode('UTF-8').split(' ')\n",
    "        name = [t for t in tag if t != ''][-1]\n",
    "        if name in wanted_cases:\n",
    "            gt[line[0]-1:line[1]] = 1                   \n",
    "            \n",
    "    game['gt'] = gt\n",
    "    del game['highlights_boundaries']"
   ]
  },
  {
   "cell_type": "code",
   "execution_count": 4,
   "metadata": {},
   "outputs": [],
   "source": [
    "### CORTANDO VALORES EXCEDENTES PARA QUE TODOS OS DADOS TENHAM O MESMO TAMANHO ###\n",
    "\n",
    "for game in games_data:\n",
    "    values = [len(v) for k, v in game.items() if k not in ['name']]\n",
    "    min_l = min(values)\n",
    "    for k, v in game.items():\n",
    "        if len(v) > min_l:\n",
    "            game[k] = v[:min_l]\n",
    "            \n",
    "\n",
    "### ZERO PADDING ###\n",
    "max_length = 0\n",
    "for game in games_data:\n",
    "    values = [len(v) for k, v in game.items() if k not in ['name']]\n",
    "    max_length = max(values) if max(values)>max_length else max_length\n",
    "\n",
    "for game in games_data:\n",
    "    for k, v in game.items():\n",
    "        if k not in ['name']:\n",
    "            zero_v = np.zeros(max_length)\n",
    "            if len(v) < max_length:\n",
    "                zero_v[:len(v)] = v\n",
    "                game[k] = zero_v"
   ]
  },
  {
   "cell_type": "code",
   "execution_count": 5,
   "metadata": {},
   "outputs": [
    {
     "name": "stdout",
     "output_type": "stream",
     "text": [
      "Total train: 26\n",
      "Total test: 2\n",
      "Total val: 2\n"
     ]
    }
   ],
   "source": [
    "### DIVIDING SPLITS FROM TRAIN, EVAL, TEST ###\n",
    "\n",
    "games_test = ['chi_swi', 'san_vas']\n",
    "games_train1 = [g['name'] for g in games_data if g['name'] not in games_test]\n",
    "games_train2, games_val = train_test_split(games_train1, test_size=0.05)\n",
    "\n",
    "print('Total train: {}'.format(len(games_train2)))\n",
    "print('Total test: {}'.format(len(games_test)))\n",
    "print('Total val: {}'.format(len(games_val)))"
   ]
  },
  {
   "cell_type": "code",
   "execution_count": 6,
   "metadata": {},
   "outputs": [],
   "source": [
    "def get_frames_ids(gt):\n",
    "    u, counts = np.unique(gt, return_counts=True)\n",
    "    ind_0 = [i for i, v in enumerate(gt) if v == 0.0]\n",
    "    ind_1 = [i for i, v in enumerate(gt) if v == 1.0]\n",
    "    \n",
    "    ind_0_ids = np.linspace(0, counts[0]-1, counts[1], dtype=int)\n",
    "    new_ind_0 = [ind_0[j] for j in ind_0_ids]\n",
    "    \n",
    "    return sorted(new_ind_0 + ind_1)"
   ]
  },
  {
   "cell_type": "code",
   "execution_count": 10,
   "metadata": {},
   "outputs": [],
   "source": [
    "def get_frames_ids(gt):\n",
    "    u, counts = np.unique(gt, return_counts=True)\n",
    "    ind_0 = [i for i, v in enumerate(gt) if v == 0.0]\n",
    "    ind_1 = [i for i, v in enumerate(gt) if v == 1.0]\n",
    "    \n",
    "    ind_0_ids = np.linspace(0, counts[0]-1, counts[1], dtype=int)\n",
    "    new_ind_0 = [ind_0[j] for j in ind_0_ids]\n",
    "    \n",
    "    return sorted(new_ind_0 + ind_1)\n",
    "\n",
    "def get_matrix(restriction, norm=True):\n",
    "    data = []\n",
    "    gt = []\n",
    "    for game in games_data:\n",
    "        if game['name'] in restriction:\n",
    "            values_array = np.array(list(game.values()))\n",
    "\n",
    "            # Getting GT\n",
    "            gt_game = list(values_array[gt_id])\n",
    "\n",
    "            # Removing name and GT to train\n",
    "            values_array = np.delete(values_array, (max(name_id, gt_id)), axis=0)\n",
    "            values_array = np.delete(values_array, (min(name_id, gt_id)), axis=0)    \n",
    "\n",
    "            frames_ids = get_frames_ids(gt_game)\n",
    "            gt += [gt_game[i] for i in frames_ids]\n",
    "\n",
    "            game_features = []\n",
    "            for feature in values_array:\n",
    "                    \n",
    "                if norm:\n",
    "                    # Normalizing\n",
    "                    M_feature = np.squeeze(normalize([feature], axis=1))\n",
    "                else:\n",
    "                    M_feature = feature\n",
    "                    \n",
    "                M_feature = M_feature[frames_ids]\n",
    "\n",
    "                M_feature = np.transpose([M_feature])\n",
    "                if len(game_features) == 0:\n",
    "                    game_features = M_feature\n",
    "                else:\n",
    "                    game_features = np.concatenate((game_features, M_feature), axis=1)\n",
    "\n",
    "            if len(data) == 0:\n",
    "                data = game_features\n",
    "            else:\n",
    "                data = np.concatenate((data, game_features), axis=0)\n",
    "\n",
    "    gt = np.array(gt)\n",
    "    \n",
    "    return data, gt"
   ]
  },
  {
   "cell_type": "code",
   "execution_count": 8,
   "metadata": {},
   "outputs": [
    {
     "name": "stdout",
     "output_type": "stream",
     "text": [
      "Train (154076, 16) (154076,)\n",
      "Val (8396, 16) (8396,)\n",
      "Test (9284, 16) (9284,)\n"
     ]
    }
   ],
   "source": [
    "for i, tag_name in enumerate(games_data[10].keys()):\n",
    "    if tag_name == 'name':\n",
    "        name_id = i\n",
    "    if tag_name == 'gt':\n",
    "        gt_id = i\n",
    "\n",
    "X_train, y_train = get_matrix(games_train2)\n",
    "\n",
    "X_test, y_test = get_matrix(games_test)\n",
    "\n",
    "X_val, y_val = get_matrix(games_val)\n",
    "\n",
    "\n",
    "print('Train', X_train.shape, y_train.shape)\n",
    "print('Val', X_val.shape, y_val.shape)\n",
    "print('Test', X_test.shape, y_test.shape)"
   ]
  },
  {
   "cell_type": "code",
   "execution_count": 9,
   "metadata": {},
   "outputs": [
    {
     "name": "stdout",
     "output_type": "stream",
     "text": [
      "Initializing neural network with 3 layers, 16 inputs and 2 outputs.\n",
      "  - Dense: Tanh       Units:  10  \n",
      "  - Dense: Tanh       Units:  10  \n",
      "  - Dense: Softmax    Units:  2   \n",
      "\n",
      "Training on dataset of 154,076 samples with 2,773,368 total size.\n",
      "  - Train: 154,076    Valid: 8,396\n",
      "  - Terminating loop after 25 total iterations.\n",
      "  - Early termination after 10 stable iterations.\n",
      "\n",
      "Epoch       Training Error       Validation Error       Time\n",
      "------------------------------------------------------------\n",
      "    1         ..............................................                                                            6.813e-01             6.412e-01        263.8s\n",
      "    2         ..............................................                                                            5.848e-01             5.818e-01        258.1s\n",
      "    3         ..............................................                                                            5.272e-01             6.665e-01        256.7s\n",
      "    4         ..............................................                                                            5.030e-01             6.845e-01        260.0s\n",
      "    5         ..............................................                                                            4.884e-01             5.762e-01        262.5s\n",
      "    6         ..............................................                                                            4.798e-01             7.871e-01        272.2s\n",
      "    7         ..............................................                                                            4.726e-01             6.517e-01        276.3s\n",
      "    8         ..............................................                                                            4.673e-01             6.303e-01        292.9s\n",
      "    9         ..............................................                                                            4.629e-01             5.728e-01        383.8s\n",
      "   10         ..............................................                                                            4.598e-01             5.796e-01        296.5s\n",
      "   11         ..............................................                                                            4.566e-01             6.218e-01        303.0s\n",
      "   12         ..............................................                                                            4.547e-01             5.343e-01        294.3s\n",
      "   13         ..............................................                                                            4.530e-01             6.448e-01        276.0s\n",
      "   14         ..............................................                                                            4.504e-01             5.986e-01        269.7s\n",
      "   15         ..............................................                                                            4.486e-01             5.314e-01        356.1s\n",
      "   16         ..............................................                                                            4.475e-01             5.273e-01        262.9s\n",
      "   17         ..............................................                                                            4.468e-01             5.308e-01        422.9s\n",
      "   18         ..............................................                                                            4.457e-01             5.546e-01        259.4s\n",
      "   19         ..............................................                                                            4.442e-01             5.352e-01        271.1s\n",
      "   20         ..............................................                                                            4.434e-01             5.259e-01        545.9s\n",
      "   21         ..............................................                                                            4.425e-01             5.360e-01        654.6s\n",
      "   22         ..............................................                                                            4.417e-01             6.369e-01        467.4s\n",
      "   23         ..............................................                                                            4.408e-01             5.239e-01        280.0s\n",
      "   24         ..............................................                                                            4.398e-01             5.225e-01        260.3s\n",
      "   25         ..............................................                                                            4.400e-01             5.253e-01        257.3s\n",
      "\n",
      "Terminating after specified 25 total iterations.\n"
     ]
    }
   ],
   "source": [
    "\n",
    "logging.basicConfig(\n",
    "            format=\"%(message)s\",\n",
    "            level=logging.DEBUG,\n",
    "            stream=sys.stdout)\n",
    "\n",
    "nn = Classifier(\n",
    "    layers=[\n",
    "        Layer(\"Tanh\", units=10),\n",
    "        Layer(\"Tanh\", units=10),\n",
    "        Layer(\"Softmax\")],\n",
    "    learning_rate=0.01,\n",
    "    n_iter=25,\n",
    "    verbose=True,\n",
    "    valid_set=(X_val, y_val))\n",
    "\n",
    "nn.fit(X_train, y_train)\n",
    "\n",
    "pickle.dump(nn, open('nn_basic.pkl', 'wb'))\n"
   ]
  },
  {
   "cell_type": "code",
   "execution_count": 11,
   "metadata": {},
   "outputs": [
    {
     "name": "stdout",
     "output_type": "stream",
     "text": [
      "[(9284, 2)]\n",
      "[(9284, 2)]\n",
      "Average precision-recall score: 0.76\n",
      "Precision: [0.80748098 0.81963972]\n",
      "Recall: [0.82313658 0.80374838]\n",
      "[[3821  821]\n",
      " [ 911 3731]]\n"
     ]
    },
    {
     "data": {
      "image/png": "[encoded data removed]",
      "text/plain": [
       "<matplotlib.figure.Figure at 0x180e8e8ceb8>"
      ]
     },
     "metadata": {},
     "output_type": "display_data"
    }
   ],
   "source": [
    "# Getting predictions\n",
    "y_predictions = nn.predict_proba(X_test)\n",
    "y_score = nn.predict(X_test)\n",
    "\n",
    "# Calculating average precision\n",
    "average_precision = average_precision_score(y_test, y_score)\n",
    "print('Average precision-recall score: {0:0.2f}'.format(average_precision))\n",
    "\n",
    "# Getting precision and recall\n",
    "p_r_fs = precision_recall_fscore_support(y_test, y_score)\n",
    "print('Precision: {}'.format(p_r_fs[0]))\n",
    "print('Recall: {}'.format(p_r_fs[1]))\n",
    "\n",
    "print(confusion_matrix(y_test,y_score))\n",
    "\n",
    "# Plotting PR curve\n",
    "precision, recall, _ = precision_recall_curve(y_test, y_predictions[:, 1])\n",
    "average_precision = average_precision_score(y_test, y_score)\n",
    "\n",
    "plt.figure(figsize=(16,10))\n",
    "plt.step(recall, precision, color='b', alpha=0.2, where='post')\n",
    "plt.fill_between(recall, precision, step='post', alpha=0.2, color='b')\n",
    "\n",
    "plt.xlabel('Recall')\n",
    "plt.ylabel('Precision')\n",
    "plt.ylim([0.0, 1.05])\n",
    "plt.xlim([0.0, 1.0])\n",
    "plt.title('Precision-Recall curve: AP={:.2f}'.format(average_precision))\n",
    "plt.show()"
   ]
  },
  {
   "cell_type": "code",
   "execution_count": null,
   "metadata": {},
   "outputs": [],
   "source": [
    "file_path = 'nn_error.txt'\n",
    "\n",
    "train_error = []\n",
    "val_error = []\n",
    "\n",
    "with open(file_path, 'r') as file:\n",
    "    for line in file:\n",
    "        chk = line.replace('\\n', '').split(' ')\n",
    "        chk = [c for c in chk if (c != '' and '...' not in c)]\n",
    "        train_error.append(float(chk[1]))\n",
    "        val_error.append(float(chk[2]))\n",
    "        \n",
    "assert(len(train_error) == len(val_error))\n",
    "        \n",
    "dots = np.arange(len(train_error))\n",
    "\n",
    "plt.figure(figsize=(14,8))\n",
    "plt.plot(dots, train_error, label='Train error')\n",
    "plt.plot(dots, val_error, label='Val error')\n",
    "plt.legend()\n",
    "\n",
    "plt.xlabel('Epochs')\n",
    "plt.ylabel('Error')\n",
    "plt.title('Error during training')\n",
    "plt.show()"
   ]
  },
  {
   "cell_type": "code",
   "execution_count": null,
   "metadata": {},
   "outputs": [
    {
     "name": "stdout",
     "output_type": "stream",
     "text": [
      "Initializing neural network with 4 layers, 16 inputs and 2 outputs.\n",
      "  - Dense: Tanh       Units:  10  \n",
      "  - Dense: Tanh       Units:  10  \n",
      "  - Dense: Tanh       Units:  10  \n",
      "  - Dense: Softmax    Units:  2   \n",
      "\n",
      "Training on dataset of 154,076 samples with 2,773,368 total size.\n",
      "  - Train: 154,076    Valid: 8,396\n",
      "  - Terminating loop after 25 total iterations.\n",
      "  - Early termination after 10 stable iterations.\n",
      "\n",
      "Epoch       Training Error       Validation Error       Time\n",
      "------------------------------------------------------------\n",
      "    1         ..............................................                                                            6.888e-01             7.397e-01        423.1s\n",
      "    2         ..............................................                                                            6.017e-01             6.076e-01        776.6s\n",
      "    3         ..............................................                                                            5.350e-01             5.940e-01        420.6s\n",
      "    4         ..............................................                                                            5.077e-01             5.402e-01        343.4s\n",
      "    5         ..............................................                                                            4.924e-01             8.011e-01        277.2s\n",
      "......"
     ]
    }
   ],
   "source": [
    "\n",
    "logging.basicConfig(\n",
    "            format=\"%(message)s\",\n",
    "            level=logging.DEBUG,\n",
    "            stream=sys.stdout)\n",
    "\n",
    "nn3 = Classifier(\n",
    "    layers=[\n",
    "        Layer(\"Tanh\", units=10),\n",
    "        Layer(\"Tanh\", units=10),\n",
    "        Layer(\"Tanh\", units=10),\n",
    "        Layer(\"Softmax\")],\n",
    "    learning_rate=0.01,\n",
    "    n_iter=25,\n",
    "    verbose=True,\n",
    "    valid_set=(X_val, y_val))\n",
    "\n",
    "nn3.fit(X_train, y_train)\n",
    "\n",
    "pickle.dump(nn, open('nn3_basic.pkl', 'wb'))\n"
   ]
  },
  {
   "cell_type": "code",
   "execution_count": 10,
   "metadata": {},
   "outputs": [
    {
     "name": "stdout",
     "output_type": "stream",
     "text": [
      "[(9284, 2)]\n",
      "[(9284, 2)]\n",
      "Average precision-recall score: 0.86\n",
      "Precision: [0.87320476 0.91247166]\n",
      "Recall: [0.91684619 0.86686773]\n",
      "[[4256  386]\n",
      " [ 618 4024]]\n"
     ]
    },
    {
     "data": {
      "image/png": "[encoded data removed]",
      "text/plain": [
       "<matplotlib.figure.Figure at 0x2a0eb225fd0>"
      ]
     },
     "metadata": {},
     "output_type": "display_data"
    }
   ],
   "source": [
    "# Getting predictions\n",
    "y_predictions = nn3.predict_proba(X_test)\n",
    "y_score = nn3.predict(X_test)\n",
    "\n",
    "# Calculating average precision\n",
    "average_precision = average_precision_score(y_test, y_score)\n",
    "print('Average precision-recall score: {0:0.2f}'.format(average_precision))\n",
    "\n",
    "# Getting precision and recall\n",
    "p_r_fs = precision_recall_fscore_support(y_test, y_score)\n",
    "print('Precision: {}'.format(p_r_fs[0]))\n",
    "print('Recall: {}'.format(p_r_fs[1]))\n",
    "\n",
    "print(confusion_matrix(y_test,y_score))\n",
    "\n",
    "# Plotting PR curve\n",
    "precision, recall, _ = precision_recall_curve(y_test, y_predictions[:, 1])\n",
    "average_precision = average_precision_score(y_test, y_score)\n",
    "\n",
    "plt.figure(figsize=(16,10))\n",
    "plt.step(recall, precision, color='b', alpha=0.2, where='post')\n",
    "plt.fill_between(recall, precision, step='post', alpha=0.2, color='b')\n",
    "\n",
    "plt.xlabel('Recall')\n",
    "plt.ylabel('Precision')\n",
    "plt.ylim([0.0, 1.05])\n",
    "plt.xlim([0.0, 1.0])\n",
    "plt.title('Precision-Recall curve: AP={:.2f}'.format(average_precision))\n",
    "plt.show()"
   ]
  },
  {
   "cell_type": "code",
   "execution_count": 11,
   "metadata": {},
   "outputs": [
    {
     "name": "stdout",
     "output_type": "stream",
     "text": [
      "Initializing neural network with 3 layers, 976 inputs and 2 outputs.\n",
      "  - Dense: Tanh       Units:  10  \n",
      "  - Dense: Linear     Units:  10  \n",
      "  - Dense: Softmax    Units:  2   \n",
      "\n",
      "Training on dataset of 149,716 samples with 146,422,248 total size.\n",
      "  - Train: 149,716    Valid: 12,756\n",
      "  - Terminating loop after 25 total iterations.\n",
      "  - Early termination after 10 stable iterations.\n",
      "\n",
      "Epoch       Training Error       Validation Error       Time\n",
      "------------------------------------------------------------\n",
      "    1         ..............................................                                                            3.690e-01             2.911e-01        242.1s\n",
      "    2         ..............................................                                                            2.885e-01             2.590e-01        253.7s\n",
      "    3         ..............................................                                                            2.712e-01             2.485e-01        236.6s\n",
      "    4         ..............................................                                                            2.619e-01             2.963e-01        233.8s\n",
      "    5         ..............................................                                                            2.555e-01             2.391e-01        218.4s\n",
      "    6         ..............................................                                                            2.507e-01             2.328e-01        214.8s\n",
      "    7         ..............................................                                                            2.464e-01             2.427e-01        213.8s\n",
      "    8         ..............................................                                                            2.436e-01             2.302e-01        207.8s\n",
      "    9         ..............................................                                                            2.416e-01             2.346e-01        207.3s\n",
      "   10         ..............................................                                                            2.397e-01             2.523e-01        204.9s\n",
      "   11         ..............................................                                                            2.374e-01             2.266e-01        205.5s\n",
      "   12         ..............................................                                                            2.359e-01             2.329e-01        204.4s\n",
      "   13         ..............................................                                                            2.344e-01             2.271e-01        204.4s\n",
      "   14         ..............................................                                                            2.331e-01             2.353e-01        209.8s\n",
      "   15         ..............................................                                                            2.316e-01             2.291e-01        205.7s\n",
      "   16         ..............................................                                                            2.303e-01             2.283e-01        205.6s\n",
      "   17         ..............................................                                                            2.296e-01             2.575e-01        203.9s\n",
      "   18         ..............................................                                                            2.290e-01             2.413e-01        210.6s\n",
      "   19         ..............................................                                                            2.277e-01             2.266e-01        204.6s\n",
      "   20         ..............................................                                                            2.268e-01             2.335e-01        204.6s\n",
      "   21         ..............................................                                                            2.264e-01             2.282e-01        203.7s\n",
      "   22         ..............................................                                                            2.252e-01             2.378e-01        204.0s\n",
      "   23         ..............................................                                                            2.250e-01             2.417e-01        207.7s\n",
      "   24         ..............................................                                                            2.245e-01             2.238e-01        208.6s\n",
      "   25         ..............................................                                                            2.238e-01             2.272e-01        204.6s\n",
      "\n",
      "Terminating after specified 25 total iterations.\n"
     ]
    }
   ],
   "source": [
    "\n",
    "logging.basicConfig(\n",
    "            format=\"%(message)s\",\n",
    "            level=logging.DEBUG,\n",
    "            stream=sys.stdout)\n",
    "\n",
    "nn1 = Classifier(\n",
    "    layers=[\n",
    "        Layer(\"Tanh\", units=10),\n",
    "        Layer(\"Linear\", units=10),\n",
    "        Layer(\"Softmax\")],\n",
    "    learning_rate=0.01,\n",
    "    n_iter=25,\n",
    "    verbose=True,\n",
    "    valid_set=(X_val, y_val))\n",
    "\n",
    "nn1.fit(X_train, y_train)\n",
    "\n",
    "pickle.dump(nn, open('nn1.pkl', 'wb'))\n"
   ]
  },
  {
   "cell_type": "code",
   "execution_count": 12,
   "metadata": {},
   "outputs": [
    {
     "name": "stdout",
     "output_type": "stream",
     "text": [
      "[(9284, 2)]\n",
      "[(9284, 2)]\n",
      "Average precision-recall score: 0.85\n",
      "Precision: [0.88022814 0.8956044 ]\n",
      "Recall: [0.89767342 0.87785437]\n",
      "[[4167  475]\n",
      " [ 567 4075]]\n"
     ]
    },
    {
     "data": {
      "image/png": "[encoded data removed]",
      "text/plain": [
       "<matplotlib.figure.Figure at 0x2a084864710>"
      ]
     },
     "metadata": {},
     "output_type": "display_data"
    }
   ],
   "source": [
    "# Getting predictions\n",
    "y_predictions = nn1.predict_proba(X_test)\n",
    "y_score = nn1.predict(X_test)\n",
    "\n",
    "# Calculating average precision\n",
    "average_precision = average_precision_score(y_test, y_score)\n",
    "print('Average precision-recall score: {0:0.2f}'.format(average_precision))\n",
    "\n",
    "# Getting precision and recall\n",
    "p_r_fs = precision_recall_fscore_support(y_test, y_score)\n",
    "print('Precision: {}'.format(p_r_fs[0]))\n",
    "print('Recall: {}'.format(p_r_fs[1]))\n",
    "\n",
    "print(confusion_matrix(y_test,y_score))\n",
    "\n",
    "# Plotting PR curve\n",
    "precision, recall, _ = precision_recall_curve(y_test, y_predictions[:, 1])\n",
    "average_precision = average_precision_score(y_test, y_score)\n",
    "\n",
    "plt.figure(figsize=(16,10))\n",
    "plt.step(recall, precision, color='b', alpha=0.2, where='post')\n",
    "plt.fill_between(recall, precision, step='post', alpha=0.2, color='b')\n",
    "\n",
    "plt.xlabel('Recall')\n",
    "plt.ylabel('Precision')\n",
    "plt.ylim([0.0, 1.05])\n",
    "plt.xlim([0.0, 1.0])\n",
    "plt.title('Precision-Recall curve: AP={:.2f}'.format(average_precision))\n",
    "plt.show()"
   ]
  },
  {
   "cell_type": "code",
   "execution_count": null,
   "metadata": {},
   "outputs": [],
   "source": []
  }
 ],
 "metadata": {
  "kernelspec": {
   "display_name": "Python 3",
   "language": "python",
   "name": "python3"
  },
  "language_info": {
   "codemirror_mode": {
    "name": "ipython",
    "version": 3
   },
   "file_extension": ".py",
   "mimetype": "text/x-python",
   "name": "python",
   "nbconvert_exporter": "python",
   "pygments_lexer": "ipython3",
   "version": "3.6.4"
  }
 },
 "nbformat": 4,
 "nbformat_minor": 1
}
