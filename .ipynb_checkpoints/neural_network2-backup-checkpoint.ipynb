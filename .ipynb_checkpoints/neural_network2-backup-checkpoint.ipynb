{
 "cells": [
  {
   "cell_type": "code",
   "execution_count": null,
   "metadata": {},
   "outputs": [],
   "source": [
    "import os\n",
    "import time\n",
    "import collections\n",
    "import numpy as np\n",
    "from tempfile import mkdtemp\n",
    "import matplotlib.pyplot as plt\n",
    "from sklearn.preprocessing import normalize\n",
    "\n",
    "from sklearn.metrics import average_precision_score, precision_recall_curve, precision_recall_fscore_support\n",
    "from sklearn.model_selection import train_test_split, learning_curve\n",
    "from sklearn.metrics import classification_report,confusion_matrix,average_precision_score\n",
    "\n",
    "from sknn.mlp import Classifier, Layer\n",
    "import pickle\n",
    "import sys\n",
    "import logging\n",
    "\n",
    "from sklearn.pipeline import Pipeline\n",
    "from sklearn.preprocessing import MinMaxScaler\n",
    "\n",
    "# Use the maximum number of threads for this script.\n",
    "from sknn.platform import cpu32, threading"
   ]
  },
  {
   "cell_type": "code",
   "execution_count": 2,
   "metadata": {},
   "outputs": [
    {
     "name": "stderr",
     "output_type": "stream",
     "text": [
      "C:\\Users\\v-pakova\\AppData\\Local\\Continuum\\anaconda3\\lib\\site-packages\\ipykernel_launcher.py:23: VisibleDeprecationWarning: Reading unicode strings without specifying the encoding argument is deprecated. Set the encoding, use None for the system default.\n"
     ]
    }
   ],
   "source": [
    "### READING DATASET ###\n",
    "\n",
    "# Paths\n",
    "dataset_path = 'Dataset'\n",
    "games_dir = next(os.walk(dataset_path))[1]\n",
    "\n",
    "tag_to_skip = [\n",
    "    'highlights', 'highlights2', '.DS_Store', '.git', \n",
    "    'em_mcs_energy_diff_ascending', 'em_mcs_energy_diff', 'em_mcs_energy']\n",
    "\n",
    "# Iterating through games\n",
    "games_data = []\n",
    "games_path = [os.path.join(dataset_path, g) for g in games_dir]\n",
    "for path in games_path:\n",
    "    game_name = os.path.basename(path)\n",
    "    game_info = os.listdir(path)\n",
    "    data = collections.OrderedDict()\n",
    "    for info in game_info:\n",
    "        tag_name = os.path.splitext(info)[0]\n",
    "        if tag_name not in tag_to_skip:\n",
    "            csv_file = os.path.join(path, info)\n",
    "            if tag_name == 'highlights_boundaries':\n",
    "                data_value = np.genfromtxt(csv_file, delimiter=',', dtype=None)\n",
    "            else:\n",
    "                data_value = np.fromfile(csv_file, sep=' ')\n",
    "            data[tag_name] = data_value\n",
    "    data['name'] = game_name\n",
    "    games_data.append(data)\n",
    "\n",
    "games_backup = games_data[:]"
   ]
  },
  {
   "cell_type": "code",
   "execution_count": 3,
   "metadata": {},
   "outputs": [],
   "source": [
    "### CRIANDO VETOR DE GT ###\n",
    "\n",
    "wanted_cases = ['Gol', 'Perigo']\n",
    "to_skip = ['name', 'highlights_boundaries']\n",
    "\n",
    "for game in games_data:\n",
    "    h = game['highlights_boundaries']\n",
    "    end = h[-1][0]\n",
    "    gt = np.zeros(end)\n",
    "    for line in h:\n",
    "        tag = line[2].decode('UTF-8').split(' ')\n",
    "        name = [t for t in tag if t != ''][-1]\n",
    "        if name in wanted_cases:\n",
    "            gt[line[0]-1:line[1]] = 1                   \n",
    "            \n",
    "    game['gt'] = gt\n",
    "    del game['highlights_boundaries']"
   ]
  },
  {
   "cell_type": "code",
   "execution_count": 4,
   "metadata": {},
   "outputs": [],
   "source": [
    "### CORTANDO VALORES EXCEDENTES PARA QUE TODOS OS DADOS TENHAM O MESMO TAMANHO ###\n",
    "\n",
    "for game in games_data:\n",
    "    values = [len(v) for k, v in game.items() if k not in ['name']]\n",
    "    min_l = min(values)\n",
    "    for k, v in game.items():\n",
    "        if len(v) > min_l:\n",
    "            game[k] = v[:min_l]\n",
    "            \n",
    "\n",
    "### ZERO PADDING ###\n",
    "max_length = 0\n",
    "for game in games_data:\n",
    "    values = [len(v) for k, v in game.items() if k not in ['name']]\n",
    "    max_length = max(values) if max(values)>max_length else max_length\n",
    "\n",
    "for game in games_data:\n",
    "    for k, v in game.items():\n",
    "        if k not in ['name']:\n",
    "            zero_v = np.zeros(max_length)\n",
    "            if len(v) < max_length:\n",
    "                zero_v[:len(v)] = v\n",
    "                game[k] = zero_v"
   ]
  },
  {
   "cell_type": "code",
   "execution_count": 12,
   "metadata": {},
   "outputs": [
    {
     "name": "stdout",
     "output_type": "stream",
     "text": [
      "Total train: 26\n",
      "Total test: 2\n",
      "Total val: 2\n"
     ]
    }
   ],
   "source": [
    "### DIVIDING SPLITS FROM TRAIN, EVAL, TEST ###\n",
    "\n",
    "games_test = ['chi_swi', 'san_vas']\n",
    "games_train1 = [g['name'] for g in games_data if g['name'] not in games_test]\n",
    "games_train2, games_val = train_test_split(games_train1, test_size=0.05)\n",
    "\n",
    "print('Total train: {}'.format(len(games_train2)))\n",
    "print('Total test: {}'.format(len(games_test)))\n",
    "print('Total val: {}'.format(len(games_val)))"
   ]
  },
  {
   "cell_type": "code",
   "execution_count": 6,
   "metadata": {},
   "outputs": [],
   "source": [
    "def get_frames_ids(gt):\n",
    "    u, counts = np.unique(gt, return_counts=True)\n",
    "    ind_0 = [i for i, v in enumerate(gt) if v == 0.0]\n",
    "    ind_1 = [i for i, v in enumerate(gt) if v == 1.0]\n",
    "    \n",
    "    ind_0_ids = np.linspace(0, counts[0]-1, counts[1], dtype=int)\n",
    "    new_ind_0 = [ind_0[j] for j in ind_0_ids]\n",
    "    \n",
    "    return sorted(new_ind_0 + ind_1)"
   ]
  },
  {
   "cell_type": "code",
   "execution_count": 7,
   "metadata": {},
   "outputs": [],
   "source": [
    "def get_matrix(restriction, skip):\n",
    "    data = []\n",
    "    gt = []\n",
    "    for game in games_data:\n",
    "        if game['name'] in restriction:\n",
    "            values_array = np.array(list(game.values()))\n",
    "\n",
    "            # Getting GT\n",
    "            gt_game = list(values_array[gt_id])\n",
    "\n",
    "            # Removing name and GT to train\n",
    "            values_array = np.delete(values_array, (max(name_id, gt_id)), axis=0)\n",
    "            values_array = np.delete(values_array, (min(name_id, gt_id)), axis=0)    \n",
    "\n",
    "            frames_ids = get_frames_ids(gt_game)\n",
    "            gt += [gt_game[i] for i in frames_ids]\n",
    "\n",
    "            game_features = []\n",
    "            for feature in values_array:\n",
    "                # Normalizing\n",
    "                norm_feature = np.squeeze(normalize([feature], axis=1))\n",
    "\n",
    "                M_feature = np.repeat([norm_feature], f_size, axis=0)\n",
    "                for i, v in enumerate(skip_values):\n",
    "                    M_feature[i] = np.roll(M_feature[i], v, axis=0)\n",
    "\n",
    "                M_feature = M_feature[:, frames_ids]\n",
    "\n",
    "                M_feature = np.transpose(M_feature)\n",
    "                if len(game_features) == 0:\n",
    "                    game_features = M_feature\n",
    "                else:\n",
    "                    game_features = np.concatenate((game_features, M_feature), axis=1)\n",
    "\n",
    "            if len(data) == 0:\n",
    "                data = game_features\n",
    "            else:\n",
    "                data = np.concatenate((data, game_features), axis=0)\n",
    "\n",
    "\n",
    "    gt = np.array(gt)\n",
    "    \n",
    "    return data, gt\n"
   ]
  },
  {
   "cell_type": "code",
   "execution_count": 13,
   "metadata": {},
   "outputs": [
    {
     "name": "stdout",
     "output_type": "stream",
     "text": [
      "Train (148448, 976) (148448,)\n",
      "Val (14024, 976) (14024,)\n",
      "Test (9284, 976) (9284,)\n"
     ]
    }
   ],
   "source": [
    "for i, tag_name in enumerate(games_data[10].keys()):\n",
    "    if tag_name == 'name':\n",
    "        name_id = i\n",
    "    if tag_name == 'gt':\n",
    "        gt_id = i\n",
    "\n",
    "skip = 8\n",
    "f_size = 61\n",
    "skip_values = np.arange(-30*skip, 31*skip, skip)\n",
    "\n",
    "X_train, y_train = get_matrix(games_train2, skip)\n",
    "\n",
    "X_test, y_test = get_matrix(games_test, skip)\n",
    "\n",
    "X_val, y_val = get_matrix(games_val, skip)\n",
    "\n",
    "\n",
    "print('Train', X_train.shape, y_train.shape)\n",
    "print('Val', X_val.shape, y_val.shape)\n",
    "print('Test', X_test.shape, y_test.shape)"
   ]
  },
  {
   "cell_type": "code",
   "execution_count": 9,
   "metadata": {},
   "outputs": [
    {
     "name": "stdout",
     "output_type": "stream",
     "text": [
      "Initializing neural network with 3 layers, 976 inputs and 2 outputs.\n",
      "  - Dense: Tanh       Units:  10  \n",
      "  - Dense: Tanh       Units:  10  \n",
      "  - Dense: Softmax    Units:  2   \n",
      "\n",
      "Training on dataset of 134,136 samples with 131,185,008 total size.\n",
      "  - Train: 134,136    Valid: 10,994\n",
      "  - Terminating loop after 25 total iterations.\n",
      "  - Early termination after 10 stable iterations.\n",
      "\n",
      "Epoch       Training Error       Validation Error       Time\n",
      "------------------------------------------------------------\n",
      "    1         ..............................................                                                            5.408e-01             4.038e-01        451.4s\n",
      "    2         ..............................................                                                            3.230e-01             3.627e-01        400.5s\n",
      "    3         ..............................................                                                            2.891e-01             3.373e-01        430.4s\n",
      "    4         ..............................................                                                            2.746e-01             3.716e-01        647.5s\n",
      "    5         ..............................................                                                            2.653e-01             3.232e-01        816.9s\n",
      "    6         ..............................................                                                            2.594e-01             3.162e-01        454.0s\n",
      "    7         ..............................................                                                            2.538e-01             3.212e-01        410.3s\n",
      "    8         ..............................................                                                            2.502e-01             3.129e-01        398.9s\n",
      "    9         ..............................................                                                            2.478e-01             3.812e-01        393.6s\n",
      "   10         ..............................................                                                            2.449e-01             3.096e-01        400.3s\n",
      "   11         ..............................................                                                            2.423e-01             3.403e-01        386.9s\n",
      "   12         ..............................................                                                            2.406e-01             3.082e-01        414.5s\n",
      "   13         ..............................................                                                            2.386e-01             3.103e-01        420.5s\n",
      "   14         ..............................................                                                            2.369e-01             3.643e-01        760.4s\n",
      "   15         ..............................................                                                            2.358e-01             3.102e-01        763.3s\n",
      "   16         ..............................................                                                            2.341e-01             3.069e-01        460.0s\n",
      "   17         ..............................................                                                            2.328e-01             3.099e-01        383.4s\n",
      "   18         ..............................................                                                            2.319e-01             3.064e-01        386.4s\n",
      "   19         ..............................................                                                            2.310e-01             3.063e-01        381.7s\n",
      "   20         ..............................................                                                            2.305e-01             4.133e-01        431.5s\n",
      "   21         ..............................................                                                            2.299e-01             3.820e-01        690.4s\n",
      "   22         ..............................................                                                            2.289e-01             3.060e-01        412.8s\n",
      "   23         ..............................................                                                            2.280e-01             3.618e-01        478.5s\n",
      "   24         ..............................................                                                            2.278e-01             3.059e-01        472.4s\n",
      "   25         ..............................................                                                            2.270e-01             3.110e-01        423.0s\n",
      "\n",
      "Terminating after specified 25 total iterations.\n"
     ]
    }
   ],
   "source": [
    "\n",
    "logging.basicConfig(\n",
    "            format=\"%(message)s\",\n",
    "            level=logging.DEBUG,\n",
    "            stream=sys.stdout)\n",
    "\n",
    "nn = Classifier(\n",
    "    layers=[\n",
    "        Layer(\"Tanh\", units=10),\n",
    "        Layer(\"Tanh\", units=10),\n",
    "        Layer(\"Softmax\")],\n",
    "    learning_rate=0.01,\n",
    "    n_iter=25,\n",
    "    verbose=True,\n",
    "    valid_set=(X_val, y_val))\n",
    "\n",
    "nn.fit(X_train, y_train)\n",
    "\n",
    "pickle.dump(nn, open('nn.pkl', 'wb'))\n"
   ]
  },
  {
   "cell_type": "code",
   "execution_count": 11,
   "metadata": {},
   "outputs": [
    {
     "name": "stdout",
     "output_type": "stream",
     "text": [
      "[(26626, 2)]\n",
      "[(26626, 2)]\n",
      "Average precision-recall score: 0.88\n",
      "Precision: [0.94596736 0.90195658]\n",
      "Recall: [0.89686772 0.94877188]\n",
      "[[11940  1373]\n",
      " [  682 12631]]\n"
     ]
    },
    {
     "data": {
      "image/png": "[encoded data removed]",
      "text/plain": [
       "<matplotlib.figure.Figure at 0x247b647b9e8>"
      ]
     },
     "metadata": {},
     "output_type": "display_data"
    }
   ],
   "source": [
    "# Getting predictions\n",
    "y_predictions = nn.predict_proba(X_test)\n",
    "y_score = nn.predict(X_test)\n",
    "\n",
    "# Calculating average precision\n",
    "average_precision = average_precision_score(y_test, y_score)\n",
    "print('Average precision-recall score: {0:0.2f}'.format(average_precision))\n",
    "\n",
    "# Getting precision and recall\n",
    "p_r_fs = precision_recall_fscore_support(y_test, y_score)\n",
    "print('Precision: {}'.format(p_r_fs[0]))\n",
    "print('Recall: {}'.format(p_r_fs[1]))\n",
    "\n",
    "print(confusion_matrix(y_test,y_score))\n",
    "\n",
    "# Plotting PR curve\n",
    "precision, recall, _ = precision_recall_curve(y_test, y_predictions[:, 1])\n",
    "average_precision = average_precision_score(y_test, y_score)\n",
    "\n",
    "plt.figure(figsize=(16,10))\n",
    "plt.step(recall, precision, color='b', alpha=0.2, where='post')\n",
    "plt.fill_between(recall, precision, step='post', alpha=0.2, color='b')\n",
    "\n",
    "plt.xlabel('Recall')\n",
    "plt.ylabel('Precision')\n",
    "plt.ylim([0.0, 1.05])\n",
    "plt.xlim([0.0, 1.0])\n",
    "plt.title('Precision-Recall curve: AP={:.2f}'.format(average_precision))\n",
    "plt.show()"
   ]
  },
  {
   "cell_type": "code",
   "execution_count": 15,
   "metadata": {},
   "outputs": [],
   "source": [
    "def plot_learning_curve(estimator, title, X, y, ylim=None, cv=None,\n",
    "                        n_jobs=1, train_sizes=np.linspace(.1, 1.0, 5)):\n",
    "    plt.figure()\n",
    "    plt.title(title)\n",
    "    if ylim is not None:\n",
    "        plt.ylim(*ylim)\n",
    "    plt.xlabel(\"Training examples\")\n",
    "    plt.ylabel(\"Score\")\n",
    "    train_sizes, train_scores, test_scores = learning_curve(\n",
    "        estimator, X, y, cv=cv, n_jobs=n_jobs, train_sizes=train_sizes)\n",
    "    train_scores_mean = np.mean(train_scores, axis=1)\n",
    "    train_scores_std = np.std(train_scores, axis=1)\n",
    "    test_scores_mean = np.mean(test_scores, axis=1)\n",
    "    test_scores_std = np.std(test_scores, axis=1)\n",
    "    plt.grid()\n",
    "\n",
    "    plt.fill_between(train_sizes, train_scores_mean - train_scores_std,\n",
    "                     train_scores_mean + train_scores_std, alpha=0.1,\n",
    "                     color=\"r\")\n",
    "    plt.fill_between(train_sizes, test_scores_mean - test_scores_std,\n",
    "                     test_scores_mean + test_scores_std, alpha=0.1, color=\"g\")\n",
    "    plt.plot(train_sizes, train_scores_mean, 'o-', color=\"r\",\n",
    "             label=\"Training score\")\n",
    "    plt.plot(train_sizes, test_scores_mean, 'o-', color=\"g\",\n",
    "             label=\"Cross-validation score\")\n",
    "\n",
    "    plt.legend(loc=\"best\")\n",
    "    return plt"
   ]
  },
  {
   "cell_type": "code",
   "execution_count": null,
   "metadata": {},
   "outputs": [],
   "source": [
    "\n",
    "logging.basicConfig(\n",
    "            format=\"%(message)s\",\n",
    "            level=logging.DEBUG,\n",
    "            stream=sys.stdout)\n",
    "\n",
    "nn1 = Classifier(\n",
    "    layers=[\n",
    "        Layer(\"Tanh\", units=10),\n",
    "        Layer(\"Tanh\", units=10),\n",
    "        Layer(\"Softmax\")],\n",
    "    learning_rate=0.01,\n",
    "    n_iter=25,\n",
    "    verbose=True,\n",
    "    valid_set=(X_val, y_val))\n",
    "\n",
    "nn1.fit(X_train, y_train)\n",
    "\n",
    "pickle.dump(nn, open('nn.pkl', 'wb'))\n"
   ]
  }
 ],
 "metadata": {
  "kernelspec": {
   "display_name": "Python 3",
   "language": "python",
   "name": "python3"
  },
  "language_info": {
   "codemirror_mode": {
    "name": "ipython",
    "version": 3
   },
   "file_extension": ".py",
   "mimetype": "text/x-python",
   "name": "python",
   "nbconvert_exporter": "python",
   "pygments_lexer": "ipython3",
   "version": "3.6.4"
  }
 },
 "nbformat": 4,
 "nbformat_minor": 1
}
