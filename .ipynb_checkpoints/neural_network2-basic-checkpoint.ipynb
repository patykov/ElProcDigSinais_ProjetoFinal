{
 "cells": [
  {
   "cell_type": "code",
   "execution_count": 1,
   "metadata": {},
   "outputs": [
    {
     "name": "stderr",
     "output_type": "stream",
     "text": [
      "WARNING (theano.configdefaults): g++ not available, if using conda: `conda install m2w64-toolchain`\n",
      "C:\\Users\\v-pakova\\AppData\\Local\\Continuum\\anaconda3\\lib\\site-packages\\theano\\configdefaults.py:560: UserWarning: DeprecationWarning: there is no c++ compiler.This is deprecated and with Theano 0.11 a c++ compiler will be mandatory\n",
      "  warnings.warn(\"DeprecationWarning: there is no c++ compiler.\"\n",
      "WARNING (theano.configdefaults): g++ not detected ! Theano will be unable to execute optimized C-implementations (for both CPU and GPU) and will default to Python implementations. Performance will be severely degraded. To remove this warning, set Theano flags cxx to an empty string.\n",
      "WARNING (theano.tensor.blas): Using NumPy C-API based implementation for BLAS functions.\n",
      "C:\\Users\\v-pakova\\AppData\\Local\\Continuum\\anaconda3\\lib\\site-packages\\sklearn\\cross_validation.py:41: DeprecationWarning: This module was deprecated in version 0.18 in favor of the model_selection module into which all the refactored classes and functions are moved. Also note that the interface of the new CV iterators are different from that of this module. This module will be removed in 0.20.\n",
      "  \"This module will be removed in 0.20.\", DeprecationWarning)\n",
      "Theano was already imported and cannot be reconfigured.\n"
     ]
    }
   ],
   "source": [
    "import os\n",
    "import time\n",
    "import collections\n",
    "import numpy as np\n",
    "from tempfile import mkdtemp\n",
    "import matplotlib.pyplot as plt\n",
    "from sklearn.preprocessing import normalize\n",
    "\n",
    "from sklearn.metrics import average_precision_score, precision_recall_curve, precision_recall_fscore_support\n",
    "from sklearn.model_selection import train_test_split, learning_curve\n",
    "from sklearn.metrics import classification_report,confusion_matrix,average_precision_score\n",
    "\n",
    "from sknn.mlp import Classifier, Layer\n",
    "import pickle\n",
    "import sys\n",
    "import logging\n",
    "\n",
    "from sklearn.pipeline import Pipeline\n",
    "from sklearn.preprocessing import MinMaxScaler\n",
    "\n",
    "# Use the maximum number of threads for this script.\n",
    "from sknn.platform import cpu32, threading"
   ]
  },
  {
   "cell_type": "code",
   "execution_count": 2,
   "metadata": {},
   "outputs": [
    {
     "name": "stderr",
     "output_type": "stream",
     "text": [
      "C:\\Users\\v-pakova\\AppData\\Local\\Continuum\\anaconda3\\lib\\site-packages\\ipykernel_launcher.py:23: VisibleDeprecationWarning: Reading unicode strings without specifying the encoding argument is deprecated. Set the encoding, use None for the system default.\n"
     ]
    }
   ],
   "source": [
    "### READING DATASET ###\n",
    "\n",
    "# Paths\n",
    "dataset_path = 'Dataset'\n",
    "games_dir = next(os.walk(dataset_path))[1]\n",
    "\n",
    "tag_to_skip = [\n",
    "    'highlights', 'highlights2', '.DS_Store', '.git', \n",
    "    'em_mcs_energy_diff_ascending', 'em_mcs_energy_diff', 'em_mcs_energy']\n",
    "\n",
    "# Iterating through games\n",
    "games_data = []\n",
    "games_path = [os.path.join(dataset_path, g) for g in games_dir]\n",
    "for path in games_path:\n",
    "    game_name = os.path.basename(path)\n",
    "    game_info = os.listdir(path)\n",
    "    data = collections.OrderedDict()\n",
    "    for info in game_info:\n",
    "        tag_name = os.path.splitext(info)[0]\n",
    "        if tag_name not in tag_to_skip:\n",
    "            csv_file = os.path.join(path, info)\n",
    "            if tag_name == 'highlights_boundaries':\n",
    "                data_value = np.genfromtxt(csv_file, delimiter=',', dtype=None)\n",
    "            else:\n",
    "                data_value = np.fromfile(csv_file, sep=' ')\n",
    "            data[tag_name] = data_value\n",
    "    data['name'] = game_name\n",
    "    games_data.append(data)\n",
    "\n",
    "games_backup = games_data[:]"
   ]
  },
  {
   "cell_type": "code",
   "execution_count": 3,
   "metadata": {},
   "outputs": [],
   "source": [
    "### CRIANDO VETOR DE GT ###\n",
    "\n",
    "wanted_cases = ['Gol', 'Perigo']\n",
    "to_skip = ['name', 'highlights_boundaries']\n",
    "\n",
    "for game in games_data:\n",
    "    h = game['highlights_boundaries']\n",
    "    end = h[-1][0]\n",
    "    gt = np.zeros(end)\n",
    "    for line in h:\n",
    "        tag = line[2].decode('UTF-8').split(' ')\n",
    "        name = [t for t in tag if t != ''][-1]\n",
    "        if name in wanted_cases:\n",
    "            gt[line[0]-1:line[1]] = 1                   \n",
    "            \n",
    "    game['gt'] = gt\n",
    "    del game['highlights_boundaries']"
   ]
  },
  {
   "cell_type": "code",
   "execution_count": 4,
   "metadata": {},
   "outputs": [],
   "source": [
    "### CORTANDO VALORES EXCEDENTES PARA QUE TODOS OS DADOS TENHAM O MESMO TAMANHO ###\n",
    "\n",
    "for game in games_data:\n",
    "    values = [len(v) for k, v in game.items() if k not in ['name']]\n",
    "    min_l = min(values)\n",
    "    for k, v in game.items():\n",
    "        if len(v) > min_l:\n",
    "            game[k] = v[:min_l]\n",
    "            \n",
    "\n",
    "### ZERO PADDING ###\n",
    "max_length = 0\n",
    "for game in games_data:\n",
    "    values = [len(v) for k, v in game.items() if k not in ['name']]\n",
    "    max_length = max(values) if max(values)>max_length else max_length\n",
    "\n",
    "for game in games_data:\n",
    "    for k, v in game.items():\n",
    "        if k not in ['name']:\n",
    "            zero_v = np.zeros(max_length)\n",
    "            if len(v) < max_length:\n",
    "                zero_v[:len(v)] = v\n",
    "                game[k] = zero_v"
   ]
  },
  {
   "cell_type": "code",
   "execution_count": 5,
   "metadata": {},
   "outputs": [
    {
     "name": "stdout",
     "output_type": "stream",
     "text": [
      "Total train: 26\n",
      "Total test: 2\n",
      "Total val: 2\n"
     ]
    }
   ],
   "source": [
    "### DIVIDING SPLITS FROM TRAIN, EVAL, TEST ###\n",
    "\n",
    "games_test = ['chi_swi', 'san_vas']\n",
    "games_train1 = [g['name'] for g in games_data if g['name'] not in games_test]\n",
    "games_train2, games_val = train_test_split(games_train1, test_size=0.05)\n",
    "\n",
    "print('Total train: {}'.format(len(games_train2)))\n",
    "print('Total test: {}'.format(len(games_test)))\n",
    "print('Total val: {}'.format(len(games_val)))"
   ]
  },
  {
   "cell_type": "code",
   "execution_count": 6,
   "metadata": {},
   "outputs": [],
   "source": [
    "def get_frames_ids(gt):\n",
    "    u, counts = np.unique(gt, return_counts=True)\n",
    "    ind_0 = [i for i, v in enumerate(gt) if v == 0.0]\n",
    "    ind_1 = [i for i, v in enumerate(gt) if v == 1.0]\n",
    "    \n",
    "    ind_0_ids = np.linspace(0, counts[0]-1, counts[1], dtype=int)\n",
    "    new_ind_0 = [ind_0[j] for j in ind_0_ids]\n",
    "    \n",
    "    return sorted(new_ind_0 + ind_1)"
   ]
  },
  {
   "cell_type": "code",
   "execution_count": 7,
   "metadata": {},
   "outputs": [],
   "source": [
    "def get_matrix(restriction, skip):\n",
    "    data = []\n",
    "    gt = []\n",
    "    for game in games_data:\n",
    "        if game['name'] in restriction:\n",
    "            values_array = np.array(list(game.values()))\n",
    "\n",
    "            # Getting GT\n",
    "            gt_game = list(values_array[gt_id])\n",
    "\n",
    "            # Removing name and GT to train\n",
    "            values_array = np.delete(values_array, (max(name_id, gt_id)), axis=0)\n",
    "            values_array = np.delete(values_array, (min(name_id, gt_id)), axis=0)    \n",
    "\n",
    "            frames_ids = get_frames_ids(gt_game)\n",
    "            gt += [gt_game[i] for i in frames_ids]\n",
    "\n",
    "            game_features = []\n",
    "            for feature in values_array:\n",
    "                # Normalizing\n",
    "                norm_feature = np.squeeze(normalize([feature], axis=1))\n",
    "\n",
    "                M_feature = np.repeat([norm_feature], f_size, axis=0)\n",
    "                for i, v in enumerate(skip_values):\n",
    "                    M_feature[i] = np.roll(M_feature[i], v, axis=0)\n",
    "\n",
    "                M_feature = M_feature[:, frames_ids]\n",
    "\n",
    "                M_feature = np.transpose(M_feature)\n",
    "                if len(game_features) == 0:\n",
    "                    game_features = M_feature\n",
    "                else:\n",
    "                    game_features = np.concatenate((game_features, M_feature), axis=1)\n",
    "\n",
    "            if len(data) == 0:\n",
    "                data = game_features\n",
    "            else:\n",
    "                data = np.concatenate((data, game_features), axis=0)\n",
    "\n",
    "\n",
    "    gt = np.array(gt)\n",
    "    \n",
    "    return data, gt\n"
   ]
  },
  {
   "cell_type": "code",
   "execution_count": 8,
   "metadata": {},
   "outputs": [
    {
     "name": "stdout",
     "output_type": "stream",
     "text": [
      "Train (149716, 976) (149716,)\n",
      "Val (12756, 976) (12756,)\n",
      "Test (9284, 976) (9284,)\n"
     ]
    }
   ],
   "source": [
    "for i, tag_name in enumerate(games_data[10].keys()):\n",
    "    if tag_name == 'name':\n",
    "        name_id = i\n",
    "    if tag_name == 'gt':\n",
    "        gt_id = i\n",
    "\n",
    "skip = 8\n",
    "f_size = 61\n",
    "skip_values = np.arange(-30*skip, 31*skip, skip)\n",
    "\n",
    "X_train, y_train = get_matrix(games_train2, skip)\n",
    "\n",
    "X_test, y_test = get_matrix(games_test, skip)\n",
    "\n",
    "X_val, y_val = get_matrix(games_val, skip)\n",
    "\n",
    "\n",
    "print('Train', X_train.shape, y_train.shape)\n",
    "print('Val', X_val.shape, y_val.shape)\n",
    "print('Test', X_test.shape, y_test.shape)"
   ]
  },
  {
   "cell_type": "code",
   "execution_count": 9,
   "metadata": {},
   "outputs": [
    {
     "name": "stdout",
     "output_type": "stream",
     "text": [
      "Initializing neural network with 3 layers, 976 inputs and 2 outputs.\n",
      "  - Dense: Tanh       Units:  10  \n",
      "  - Dense: Tanh       Units:  10  \n",
      "  - Dense: Softmax    Units:  2   \n",
      "\n",
      "Training on dataset of 134,136 samples with 131,185,008 total size.\n",
      "  - Train: 134,136    Valid: 10,994\n",
      "  - Terminating loop after 25 total iterations.\n",
      "  - Early termination after 10 stable iterations.\n",
      "\n",
      "Epoch       Training Error       Validation Error       Time\n",
      "------------------------------------------------------------\n",
      "    1         ..............................................                                                            5.408e-01             4.038e-01        451.4s\n",
      "    2         ..............................................                                                            3.230e-01             3.627e-01        400.5s\n",
      "    3         ..............................................                                                            2.891e-01             3.373e-01        430.4s\n",
      "    4         ..............................................                                                            2.746e-01             3.716e-01        647.5s\n",
      "    5         ..............................................                                                            2.653e-01             3.232e-01        816.9s\n",
      "    6         ..............................................                                                            2.594e-01             3.162e-01        454.0s\n",
      "    7         ..............................................                                                            2.538e-01             3.212e-01        410.3s\n",
      "    8         ..............................................                                                            2.502e-01             3.129e-01        398.9s\n",
      "    9         ..............................................                                                            2.478e-01             3.812e-01        393.6s\n",
      "   10         ..............................................                                                            2.449e-01             3.096e-01        400.3s\n",
      "   11         ..............................................                                                            2.423e-01             3.403e-01        386.9s\n",
      "   12         ..............................................                                                            2.406e-01             3.082e-01        414.5s\n",
      "   13         ..............................................                                                            2.386e-01             3.103e-01        420.5s\n",
      "   14         ..............................................                                                            2.369e-01             3.643e-01        760.4s\n",
      "   15         ..............................................                                                            2.358e-01             3.102e-01        763.3s\n",
      "   16         ..............................................                                                            2.341e-01             3.069e-01        460.0s\n",
      "   17         ..............................................                                                            2.328e-01             3.099e-01        383.4s\n",
      "   18         ..............................................                                                            2.319e-01             3.064e-01        386.4s\n",
      "   19         ..............................................                                                            2.310e-01             3.063e-01        381.7s\n",
      "   20         ..............................................                                                            2.305e-01             4.133e-01        431.5s\n",
      "   21         ..............................................                                                            2.299e-01             3.820e-01        690.4s\n",
      "   22         ..............................................                                                            2.289e-01             3.060e-01        412.8s\n",
      "   23         ..............................................                                                            2.280e-01             3.618e-01        478.5s\n",
      "   24         ..............................................                                                            2.278e-01             3.059e-01        472.4s\n",
      "   25         ..............................................                                                            2.270e-01             3.110e-01        423.0s\n",
      "\n",
      "Terminating after specified 25 total iterations.\n"
     ]
    }
   ],
   "source": [
    "\n",
    "logging.basicConfig(\n",
    "            format=\"%(message)s\",\n",
    "            level=logging.DEBUG,\n",
    "            stream=sys.stdout)\n",
    "\n",
    "nn = Classifier(\n",
    "    layers=[\n",
    "        Layer(\"Tanh\", units=10),\n",
    "        Layer(\"Tanh\", units=10),\n",
    "        Layer(\"Softmax\")],\n",
    "    learning_rate=0.01,\n",
    "    n_iter=25,\n",
    "    verbose=True,\n",
    "    valid_set=(X_val, y_val))\n",
    "\n",
    "nn.fit(X_train, y_train)\n",
    "\n",
    "pickle.dump(nn, open('nn.pkl', 'wb'))\n"
   ]
  },
  {
   "cell_type": "code",
   "execution_count": null,
   "metadata": {},
   "outputs": [],
   "source": [
    "training_error = [5.408e-01, 3.230e-01, 2.891e-01, 2.746e-01, 2.653e-01, 2.594e-01, 2.538e-01, 2.502e-01, 2.478e-01\n",
    "val_error = [4.038e-01, 3.627e-01, 3.373e-01, 3.716e-01, 3.232e-01, 3.162e-01, 3.212e-01, 3.129e-01, 3.812e-01        393.6s\n",
    "   10         ..............................................                                                            2.449e-01             3.096e-01        400.3s\n",
    "   11         ..............................................                                                            2.423e-01             3.403e-01        386.9s\n",
    "   12         ..............................................                                                            2.406e-01             3.082e-01        414.5s\n",
    "   13         ..............................................                                                            2.386e-01             3.103e-01        420.5s\n",
    "   14         ..............................................                                                            2.369e-01             3.643e-01        760.4s\n",
    "   15         ..............................................                                                            2.358e-01             3.102e-01        763.3s\n",
    "   16         ..............................................                                                            2.341e-01             3.069e-01        460.0s\n",
    "   17         ......................................"
   ]
  },
  {
   "cell_type": "code",
   "execution_count": 11,
   "metadata": {},
   "outputs": [
    {
     "name": "stdout",
     "output_type": "stream",
     "text": [
      "[(26626, 2)]\n",
      "[(26626, 2)]\n",
      "Average precision-recall score: 0.88\n",
      "Precision: [0.94596736 0.90195658]\n",
      "Recall: [0.89686772 0.94877188]\n",
      "[[11940  1373]\n",
      " [  682 12631]]\n"
     ]
    },
    {
     "data": {
      "image/png": "[encoded data removed]",
      "text/plain": [
       "<matplotlib.figure.Figure at 0x247b647b9e8>"
      ]
     },
     "metadata": {},
     "output_type": "display_data"
    }
   ],
   "source": [
    "# Getting predictions\n",
    "y_predictions = nn.predict_proba(X_test)\n",
    "y_score = nn.predict(X_test)\n",
    "\n",
    "# Calculating average precision\n",
    "average_precision = average_precision_score(y_test, y_score)\n",
    "print('Average precision-recall score: {0:0.2f}'.format(average_precision))\n",
    "\n",
    "# Getting precision and recall\n",
    "p_r_fs = precision_recall_fscore_support(y_test, y_score)\n",
    "print('Precision: {}'.format(p_r_fs[0]))\n",
    "print('Recall: {}'.format(p_r_fs[1]))\n",
    "\n",
    "print(confusion_matrix(y_test,y_score))\n",
    "\n",
    "# Plotting PR curve\n",
    "precision, recall, _ = precision_recall_curve(y_test, y_predictions[:, 1])\n",
    "average_precision = average_precision_score(y_test, y_score)\n",
    "\n",
    "plt.figure(figsize=(16,10))\n",
    "plt.step(recall, precision, color='b', alpha=0.2, where='post')\n",
    "plt.fill_between(recall, precision, step='post', alpha=0.2, color='b')\n",
    "\n",
    "plt.xlabel('Recall')\n",
    "plt.ylabel('Precision')\n",
    "plt.ylim([0.0, 1.05])\n",
    "plt.xlim([0.0, 1.0])\n",
    "plt.title('Precision-Recall curve: AP={:.2f}'.format(average_precision))\n",
    "plt.show()"
   ]
  },
  {
   "cell_type": "code",
   "execution_count": 9,
   "metadata": {},
   "outputs": [
    {
     "name": "stdout",
     "output_type": "stream",
     "text": [
      "Initializing neural network with 3 layers, 976 inputs and 2 outputs.\n",
      "  - Dense: Tanh       Units:  10  \n",
      "  - Dense: Tanh       Units:  10  \n",
      "  - Dense: Softmax    Units:  2   \n",
      "\n",
      "Training on dataset of 149,716 samples with 146,422,248 total size.\n",
      "  - Train: 149,716    Valid: 12,756\n",
      "  - Terminating loop after 25 total iterations.\n",
      "  - Early termination after 10 stable iterations.\n",
      "\n",
      "Epoch       Training Error       Validation Error       Time\n",
      "------------------------------------------------------------\n",
      "    1         ..............................................                                                            3.814e-01             2.770e-01        604.5s\n",
      "    2         ..............................................                                                            3.033e-01             2.399e-01        500.8s\n",
      "    3         ..............................................                                                            2.866e-01             2.430e-01        296.1s\n",
      "    4         ..............................................                                                            2.774e-01             2.398e-01        289.8s\n",
      "    5         ..............................................                                                            2.706e-01             2.531e-01        307.5s\n",
      "    6         ..............................................                                                            2.658e-01             2.479e-01        279.5s\n",
      "    7         ..............................................                                                            2.619e-01             2.594e-01        271.5s\n",
      "    8         ..............................................                                                            2.584e-01             2.484e-01        272.2s\n",
      "    9         ..............................................                                                            2.564e-01             2.310e-01        281.4s\n",
      "   10         ..............................................                                                            2.539e-01             2.454e-01        282.5s\n",
      "   11         ..............................................                                                            2.521e-01             2.489e-01        277.9s\n",
      "   12         ..............................................                                                            2.504e-01             3.329e-01        276.7s\n",
      "   13         ..............................................                                                            2.488e-01             2.532e-01        279.6s\n",
      "   14         ..............................................                                                            2.475e-01             2.296e-01        259.1s\n",
      "   15         ..............................................                                                            2.468e-01             3.776e-01        248.3s\n",
      "   16         ..............................................                                                            2.455e-01             2.971e-01        246.4s\n",
      "   17         ..............................................                                                            2.444e-01             2.316e-01        236.8s\n",
      "   18         ..............................................                                                            2.436e-01             2.359e-01        283.1s\n",
      "   19         ..............................................                                                            2.426e-01             2.761e-01        312.3s\n",
      "   20         ..............................................                                                            2.413e-01             2.580e-01        279.4s\n",
      "   21          2.416e-01             2.370e-01        258.3s                                                           \n",
      "   22         ..............................................                                                            2.401e-01             2.726e-01        275.2s\n",
      "   23         ..............................................                                                            2.390e-01             2.637e-01        273.6s\n",
      "   24         ..............................................                                                            2.389e-01             2.407e-01        258.1s\n",
      "\n",
      "Early termination condition fired at 24 iterations.\n"
     ]
    }
   ],
   "source": [
    "\n",
    "logging.basicConfig(\n",
    "            format=\"%(message)s\",\n",
    "            level=logging.DEBUG,\n",
    "            stream=sys.stdout)\n",
    "\n",
    "nn = Classifier(\n",
    "    layers=[\n",
    "        Layer(\"Tanh\", units=10),\n",
    "        Layer(\"Tanh\", units=10),\n",
    "        Layer(\"Softmax\")],\n",
    "    learning_rate=0.1,\n",
    "    n_iter=25,\n",
    "    verbose=True,\n",
    "    valid_set=(X_val, y_val))\n",
    "\n",
    "nn.fit(X_train, y_train)\n",
    "\n",
    "pickle.dump(nn, open('nn_simple.pkl', 'wb'))\n"
   ]
  },
  {
   "cell_type": "code",
   "execution_count": 10,
   "metadata": {},
   "outputs": [
    {
     "name": "stdout",
     "output_type": "stream",
     "text": [
      "[(9284, 2)]\n",
      "[(9284, 2)]\n",
      "Average precision-recall score: 0.86\n",
      "Precision: [0.87320476 0.91247166]\n",
      "Recall: [0.91684619 0.86686773]\n",
      "[[4256  386]\n",
      " [ 618 4024]]\n"
     ]
    },
    {
     "data": {
      "image/png": "[encoded data removed]",
      "text/plain": [
       "<matplotlib.figure.Figure at 0x2a0eb225fd0>"
      ]
     },
     "metadata": {},
     "output_type": "display_data"
    }
   ],
   "source": [
    "# Getting predictions\n",
    "y_predictions = nn.predict_proba(X_test)\n",
    "y_score = nn.predict(X_test)\n",
    "\n",
    "# Calculating average precision\n",
    "average_precision = average_precision_score(y_test, y_score)\n",
    "print('Average precision-recall score: {0:0.2f}'.format(average_precision))\n",
    "\n",
    "# Getting precision and recall\n",
    "p_r_fs = precision_recall_fscore_support(y_test, y_score)\n",
    "print('Precision: {}'.format(p_r_fs[0]))\n",
    "print('Recall: {}'.format(p_r_fs[1]))\n",
    "\n",
    "print(confusion_matrix(y_test,y_score))\n",
    "\n",
    "# Plotting PR curve\n",
    "precision, recall, _ = precision_recall_curve(y_test, y_predictions[:, 1])\n",
    "average_precision = average_precision_score(y_test, y_score)\n",
    "\n",
    "plt.figure(figsize=(16,10))\n",
    "plt.step(recall, precision, color='b', alpha=0.2, where='post')\n",
    "plt.fill_between(recall, precision, step='post', alpha=0.2, color='b')\n",
    "\n",
    "plt.xlabel('Recall')\n",
    "plt.ylabel('Precision')\n",
    "plt.ylim([0.0, 1.05])\n",
    "plt.xlim([0.0, 1.0])\n",
    "plt.title('Precision-Recall curve: AP={:.2f}'.format(average_precision))\n",
    "plt.show()"
   ]
  },
  {
   "cell_type": "code",
   "execution_count": 11,
   "metadata": {},
   "outputs": [
    {
     "name": "stdout",
     "output_type": "stream",
     "text": [
      "Initializing neural network with 3 layers, 976 inputs and 2 outputs.\n",
      "  - Dense: Tanh       Units:  10  \n",
      "  - Dense: Linear     Units:  10  \n",
      "  - Dense: Softmax    Units:  2   \n",
      "\n",
      "Training on dataset of 149,716 samples with 146,422,248 total size.\n",
      "  - Train: 149,716    Valid: 12,756\n",
      "  - Terminating loop after 25 total iterations.\n",
      "  - Early termination after 10 stable iterations.\n",
      "\n",
      "Epoch       Training Error       Validation Error       Time\n",
      "------------------------------------------------------------\n",
      "    1         ..............................................                                                            3.690e-01             2.911e-01        242.1s\n",
      "    2         ..............................................                                                            2.885e-01             2.590e-01        253.7s\n",
      "    3         ..............................................                                                            2.712e-01             2.485e-01        236.6s\n",
      "    4         ..............................................                                                            2.619e-01             2.963e-01        233.8s\n",
      "    5         ..............................................                                                            2.555e-01             2.391e-01        218.4s\n",
      "    6         ..............................................                                                            2.507e-01             2.328e-01        214.8s\n",
      "    7         ..............................................                                                            2.464e-01             2.427e-01        213.8s\n",
      "    8         ..............................................                                                            2.436e-01             2.302e-01        207.8s\n",
      "    9         ..............................................                                                            2.416e-01             2.346e-01        207.3s\n",
      "   10         ..............................................                                                            2.397e-01             2.523e-01        204.9s\n",
      "   11         ..............................................                                                            2.374e-01             2.266e-01        205.5s\n",
      "   12         ..............................................                                                            2.359e-01             2.329e-01        204.4s\n",
      "   13         ..............................................                                                            2.344e-01             2.271e-01        204.4s\n",
      "   14         ..............................................                                                            2.331e-01             2.353e-01        209.8s\n",
      "   15         ..............................................                                                            2.316e-01             2.291e-01        205.7s\n",
      "   16         ..............................................                                                            2.303e-01             2.283e-01        205.6s\n",
      "   17         ..............................................                                                            2.296e-01             2.575e-01        203.9s\n",
      "   18         ..............................................                                                            2.290e-01             2.413e-01        210.6s\n",
      "   19         ..............................................                                                            2.277e-01             2.266e-01        204.6s\n",
      "   20         ..............................................                                                            2.268e-01             2.335e-01        204.6s\n",
      "   21         ..............................................                                                            2.264e-01             2.282e-01        203.7s\n",
      "   22         ..............................................                                                            2.252e-01             2.378e-01        204.0s\n",
      "   23         ..............................................                                                            2.250e-01             2.417e-01        207.7s\n",
      "   24         ..............................................                                                            2.245e-01             2.238e-01        208.6s\n",
      "   25         ..............................................                                                            2.238e-01             2.272e-01        204.6s\n",
      "\n",
      "Terminating after specified 25 total iterations.\n"
     ]
    }
   ],
   "source": [
    "\n",
    "logging.basicConfig(\n",
    "            format=\"%(message)s\",\n",
    "            level=logging.DEBUG,\n",
    "            stream=sys.stdout)\n",
    "\n",
    "nn1 = Classifier(\n",
    "    layers=[\n",
    "        Layer(\"Tanh\", units=10),\n",
    "        Layer(\"Linear\", units=10),\n",
    "        Layer(\"Softmax\")],\n",
    "    learning_rate=0.01,\n",
    "    n_iter=25,\n",
    "    verbose=True,\n",
    "    valid_set=(X_val, y_val))\n",
    "\n",
    "nn1.fit(X_train, y_train)\n",
    "\n",
    "pickle.dump(nn, open('nn1.pkl', 'wb'))\n"
   ]
  },
  {
   "cell_type": "code",
   "execution_count": 12,
   "metadata": {},
   "outputs": [
    {
     "name": "stdout",
     "output_type": "stream",
     "text": [
      "[(9284, 2)]\n",
      "[(9284, 2)]\n",
      "Average precision-recall score: 0.85\n",
      "Precision: [0.88022814 0.8956044 ]\n",
      "Recall: [0.89767342 0.87785437]\n",
      "[[4167  475]\n",
      " [ 567 4075]]\n"
     ]
    },
    {
     "data": {
      "image/png": "[encoded data removed]",
      "text/plain": [
       "<matplotlib.figure.Figure at 0x2a084864710>"
      ]
     },
     "metadata": {},
     "output_type": "display_data"
    }
   ],
   "source": [
    "# Getting predictions\n",
    "y_predictions = nn1.predict_proba(X_test)\n",
    "y_score = nn1.predict(X_test)\n",
    "\n",
    "# Calculating average precision\n",
    "average_precision = average_precision_score(y_test, y_score)\n",
    "print('Average precision-recall score: {0:0.2f}'.format(average_precision))\n",
    "\n",
    "# Getting precision and recall\n",
    "p_r_fs = precision_recall_fscore_support(y_test, y_score)\n",
    "print('Precision: {}'.format(p_r_fs[0]))\n",
    "print('Recall: {}'.format(p_r_fs[1]))\n",
    "\n",
    "print(confusion_matrix(y_test,y_score))\n",
    "\n",
    "# Plotting PR curve\n",
    "precision, recall, _ = precision_recall_curve(y_test, y_predictions[:, 1])\n",
    "average_precision = average_precision_score(y_test, y_score)\n",
    "\n",
    "plt.figure(figsize=(16,10))\n",
    "plt.step(recall, precision, color='b', alpha=0.2, where='post')\n",
    "plt.fill_between(recall, precision, step='post', alpha=0.2, color='b')\n",
    "\n",
    "plt.xlabel('Recall')\n",
    "plt.ylabel('Precision')\n",
    "plt.ylim([0.0, 1.05])\n",
    "plt.xlim([0.0, 1.0])\n",
    "plt.title('Precision-Recall curve: AP={:.2f}'.format(average_precision))\n",
    "plt.show()"
   ]
  },
  {
   "cell_type": "code",
   "execution_count": null,
   "metadata": {},
   "outputs": [],
   "source": []
  }
 ],
 "metadata": {
  "kernelspec": {
   "display_name": "Python 3",
   "language": "python",
   "name": "python3"
  },
  "language_info": {
   "codemirror_mode": {
    "name": "ipython",
    "version": 3
   },
   "file_extension": ".py",
   "mimetype": "text/x-python",
   "name": "python",
   "nbconvert_exporter": "python",
   "pygments_lexer": "ipython3",
   "version": "3.6.4"
  }
 },
 "nbformat": 4,
 "nbformat_minor": 1
}
