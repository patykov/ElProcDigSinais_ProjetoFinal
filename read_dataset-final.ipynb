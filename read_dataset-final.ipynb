{
 "cells": [
  {
   "cell_type": "code",
   "execution_count": 1,
   "metadata": {},
   "outputs": [],
   "source": [
    "import os\n",
    "import numpy as np\n",
    "import collections\n",
    "from sklearn.preprocessing import normalize"
   ]
  },
  {
   "cell_type": "code",
   "execution_count": null,
   "metadata": {},
   "outputs": [
    {
     "name": "stderr",
     "output_type": "stream",
     "text": [
      "C:\\Users\\v-pakova\\AppData\\Local\\Continuum\\anaconda3\\lib\\site-packages\\ipykernel_launcher.py:23: VisibleDeprecationWarning: Reading unicode strings without specifying the encoding argument is deprecated. Set the encoding, use None for the system default.\n"
     ]
    }
   ],
   "source": [
    "### READING DATASET ###\n",
    "\n",
    "# Paths\n",
    "dataset_path = 'Dataset'\n",
    "games_dir = next(os.walk(dataset_path))[1]\n",
    "\n",
    "tag_to_skip = [\n",
    "    'highlights', 'highlights2', '.DS_Store', '.git', \n",
    "    'em_mcs_energy_diff_ascending', 'em_mcs_energy_diff', 'em_mcs_energy']\n",
    "\n",
    "# Iterating through games\n",
    "games_data = []\n",
    "games_path = [os.path.join(dataset_path, g) for g in games_dir]\n",
    "for path in games_path:\n",
    "    game_name = os.path.basename(path)\n",
    "    game_info = os.listdir(path)\n",
    "    data = collections.OrderedDict()\n",
    "    for info in game_info:\n",
    "        tag_name = os.path.splitext(info)[0]\n",
    "        if tag_name not in tag_to_skip:\n",
    "            csv_file = os.path.join(path, info)\n",
    "            if tag_name == 'highlights_boundaries':\n",
    "                data_value = np.genfromtxt(csv_file, delimiter=',', dtype=None)\n",
    "            else:\n",
    "                data_value = np.fromfile(csv_file, sep=' ')\n",
    "            data[tag_name] = data_value\n",
    "    data['name'] = game_name\n",
    "    games_data.append(data)\n",
    "\n",
    "games_backup = games_data[:]"
   ]
  },
  {
   "cell_type": "code",
   "execution_count": 3,
   "metadata": {},
   "outputs": [],
   "source": [
    "### CRIANDO VETOR DE GT ###\n",
    "\n",
    "wanted_cases = ['Gol', 'Perigo']\n",
    "to_skip = ['name', 'highlights_boundaries']\n",
    "\n",
    "for game in games_data:\n",
    "    h = game['highlights_boundaries']\n",
    "    end = h[-1][0]\n",
    "    gt = np.zeros(end)\n",
    "    for line in h:\n",
    "        tag = line[2].decode('UTF-8').split(' ')\n",
    "        name = [t for t in tag if t != ''][-1]\n",
    "        if name in wanted_cases:\n",
    "            gt[line[0]-1:line[1]] = 1                   \n",
    "            \n",
    "    game['gt'] = gt\n",
    "    del game['highlights_boundaries']"
   ]
  },
  {
   "cell_type": "code",
   "execution_count": 4,
   "metadata": {
    "scrolled": true
   },
   "outputs": [
    {
     "name": "stdout",
     "output_type": "stream",
     "text": [
      "amg_vas\n",
      "\tMin: 209234  Max: 254254  Diff: 45020\n",
      "arg_ger\n",
      "\tMin: 171534  Max: 171627  Diff: 93\n",
      "arg_mex\n",
      "\tMin: 202368  Max: 206768  Diff: 4400\n",
      "arg_nig\n",
      "\tMin: 205865  Max: 233849  Diff: 27984\n",
      "arg_sko\n",
      "\tMin: 200918  Max: 206651  Diff: 5733\n",
      "bar_int\n",
      "\tMin: 164261  Max: 166956  Diff: 2695\n",
      "bay_int\n",
      "\tMin: 210620  Max: 251822  Diff: 41202\n",
      "bra_chi\n",
      "\tMin: 197484  Max: 206882  Diff: 9398\n",
      "bra_ita\n",
      "\tMin: 214644  Max: 224843  Diff: 10199\n",
      "bra_ned\n",
      "\tMin: 199709  Max: 206878  Diff: 7169\n",
      "chi_swi\n",
      "\tMin: 204272  Max: 206681  Diff: 2409\n",
      "cor_flu\n",
      "\tMin: 219759  Max: 251833  Diff: 32074\n",
      "cru_spo\n",
      "\tMin: 219949  Max: 254262  Diff: 34313\n",
      "den_jap\n",
      "\tMin: 200063  Max: 203249  Diff: 3186\n",
      "fra_mex\n",
      "\tMin: 201324  Max: 206753  Diff: 5429\n",
      "ger_eng\n",
      "\tMin: 196687  Max: 206882  Diff: 10195\n",
      "ger_spa\n",
      "\tMin: 198728  Max: 206779  Diff: 8051\n",
      "ger_uru\n",
      "\tMin: 199785  Max: 206887  Diff: 7102\n",
      "ita_svk\n",
      "\tMin: 206667  Max: 206764  Diff: 97\n",
      "ned_jap\n",
      "\tMin: 200203  Max: 206866  Diff: 6663\n",
      "ned_svk\n",
      "\tMin: 56285  Max: 206791  Diff: 150506\n",
      "por_nko\n",
      "\tMin: 204334  Max: 206798  Diff: 2464\n",
      "san_vas\n",
      "\tMin: 212140  Max: 251843  Diff: 39703\n",
      "spa_ned\n",
      "\tMin: 200150  Max: 206882  Diff: 6732\n",
      "spa_por\n",
      "\tMin: 204167  Max: 206753  Diff: 2586\n",
      "spa_swi\n",
      "\tMin: 197798  Max: 197896  Diff: 98\n",
      "spa_usa\n",
      "\tMin: 215780  Max: 215879  Diff: 99\n",
      "spo_cru\n",
      "\tMin: 218146  Max: 254243  Diff: 36097\n",
      "uru_ned\n",
      "\tMin: 203934  Max: 215872  Diff: 11938\n",
      "uru_sko\n",
      "\tMin: 200568  Max: 206843  Diff: 6275\n"
     ]
    }
   ],
   "source": [
    "### ANTES DE CORTAR OS VETORES ###\n",
    "\n",
    "for game in games_data:\n",
    "    print(game['name'])\n",
    "    values = [len(v) for k, v in game.items() if k not in ['name']]\n",
    "    min_l = min(values)\n",
    "    max_l = max(values)\n",
    "    print('\\tMin: {}  Max: {}  Diff: {}'.format(min_l, max_l, max_l-min_l))"
   ]
  },
  {
   "cell_type": "code",
   "execution_count": 5,
   "metadata": {},
   "outputs": [],
   "source": [
    "### CORTANDO VALORES EXCEDENTES PARA QUE TODOS OS DADOS TENHAM O MESMO TAMANHO ###\n",
    "\n",
    "for game in games_data:\n",
    "    values = [len(v) for k, v in game.items() if k not in ['name']]\n",
    "    min_l = min(values)\n",
    "    for k, v in game.items():\n",
    "        if len(v) > min_l:\n",
    "            game[k] = v[:min_l]\n",
    "            \n",
    "\n",
    "### ZERO PADDING ###\n",
    "max_length = 0\n",
    "for game in games_data:\n",
    "    values = [len(v) for k, v in game.items() if k not in ['name']]\n",
    "    max_length = max(values) if max(values)>max_length else max_length\n",
    "\n",
    "for game in games_data:\n",
    "    for k, v in game.items():\n",
    "        if k not in ['name']:\n",
    "            zero_v = np.zeros(max_length)\n",
    "            if len(v) < max_length:\n",
    "                zero_v[:len(v)] = v\n",
    "                game[k] = zero_v"
   ]
  },
  {
   "cell_type": "code",
   "execution_count": 6,
   "metadata": {
    "scrolled": true
   },
   "outputs": [
    {
     "name": "stdout",
     "output_type": "stream",
     "text": [
      "amg_vas\n",
      "\tMin: 219949  Max: 219949  Diff: 0\n",
      "arg_ger\n",
      "\tMin: 219949  Max: 219949  Diff: 0\n",
      "arg_mex\n",
      "\tMin: 219949  Max: 219949  Diff: 0\n",
      "arg_nig\n",
      "\tMin: 219949  Max: 219949  Diff: 0\n",
      "arg_sko\n",
      "\tMin: 219949  Max: 219949  Diff: 0\n",
      "bar_int\n",
      "\tMin: 219949  Max: 219949  Diff: 0\n",
      "bay_int\n",
      "\tMin: 219949  Max: 219949  Diff: 0\n",
      "bra_chi\n",
      "\tMin: 219949  Max: 219949  Diff: 0\n",
      "bra_ita\n",
      "\tMin: 219949  Max: 219949  Diff: 0\n",
      "bra_ned\n",
      "\tMin: 219949  Max: 219949  Diff: 0\n",
      "chi_swi\n",
      "\tMin: 219949  Max: 219949  Diff: 0\n",
      "cor_flu\n",
      "\tMin: 219949  Max: 219949  Diff: 0\n",
      "cru_spo\n",
      "\tMin: 219949  Max: 219949  Diff: 0\n",
      "den_jap\n",
      "\tMin: 219949  Max: 219949  Diff: 0\n",
      "fra_mex\n",
      "\tMin: 219949  Max: 219949  Diff: 0\n",
      "ger_eng\n",
      "\tMin: 219949  Max: 219949  Diff: 0\n",
      "ger_spa\n",
      "\tMin: 219949  Max: 219949  Diff: 0\n",
      "ger_uru\n",
      "\tMin: 219949  Max: 219949  Diff: 0\n",
      "ita_svk\n",
      "\tMin: 219949  Max: 219949  Diff: 0\n",
      "ned_jap\n",
      "\tMin: 219949  Max: 219949  Diff: 0\n",
      "ned_svk\n",
      "\tMin: 219949  Max: 219949  Diff: 0\n",
      "por_nko\n",
      "\tMin: 219949  Max: 219949  Diff: 0\n",
      "san_vas\n",
      "\tMin: 219949  Max: 219949  Diff: 0\n",
      "spa_ned\n",
      "\tMin: 219949  Max: 219949  Diff: 0\n",
      "spa_por\n",
      "\tMin: 219949  Max: 219949  Diff: 0\n",
      "spa_swi\n",
      "\tMin: 219949  Max: 219949  Diff: 0\n",
      "spa_usa\n",
      "\tMin: 219949  Max: 219949  Diff: 0\n",
      "spo_cru\n",
      "\tMin: 219949  Max: 219949  Diff: 0\n",
      "uru_ned\n",
      "\tMin: 219949  Max: 219949  Diff: 0\n",
      "uru_sko\n",
      "\tMin: 219949  Max: 219949  Diff: 0\n"
     ]
    }
   ],
   "source": [
    "### CHECANDO COMPRIMENTO DOS DADOS ###\n",
    "\n",
    "for game in games_data:\n",
    "    print(game['name'])\n",
    "    values = [len(v) for k, v in game.items() if k not in ['name', 'highlights_boundaries']]\n",
    "    min_l = min(values)\n",
    "    max_l = max(values)\n",
    "    print('\\tMin: {}  Max: {}  Diff: {}'.format(min_l, max_l, max_l-min_l))"
   ]
  },
  {
   "cell_type": "code",
   "execution_count": 7,
   "metadata": {},
   "outputs": [],
   "source": [
    "def get_frames_ids(gt):\n",
    "    u, counts = np.unique(gt, return_counts=True)\n",
    "    ind_0 = [i for i, v in enumerate(gt) if v == 0.0]\n",
    "    ind_1 = [i for i, v in enumerate(gt) if v == 1.0]\n",
    "    \n",
    "    ind_0_ids = np.linspace(0, counts[0]-1, counts[1], dtype=int)\n",
    "    new_ind_0 = [ind_0[j] for j in ind_0_ids]\n",
    "    \n",
    "    return sorted(new_ind_0 + ind_1)"
   ]
  },
  {
   "cell_type": "code",
   "execution_count": 8,
   "metadata": {},
   "outputs": [
    {
     "name": "stdout",
     "output_type": "stream",
     "text": [
      "(171756, 976)\n",
      "(171756,)\n"
     ]
    }
   ],
   "source": [
    "for i, tag_name in enumerate(games_data[10].keys()):\n",
    "    if tag_name == 'name':\n",
    "        name_id = i\n",
    "    if tag_name == 'gt':\n",
    "        gt_id = i\n",
    "\n",
    "skip = 8\n",
    "f_size = 61\n",
    "skip_values = np.arange(-30*skip, 31*skip, skip)\n",
    "\n",
    "        \n",
    "data = []\n",
    "gt = []\n",
    "for game in games_data:\n",
    "    values_array = np.array(list(game.values()))\n",
    "    \n",
    "    # Getting GT\n",
    "    gt_game = list(values_array[gt_id])\n",
    "\n",
    "    # Removing name and GT to train\n",
    "    values_array = np.delete(values_array, (max(name_id, gt_id)), axis=0)\n",
    "    values_array = np.delete(values_array, (min(name_id, gt_id)), axis=0)    \n",
    "        \n",
    "    frames_ids = get_frames_ids(gt_game)\n",
    "    gt += [gt_game[i] for i in frames_ids]\n",
    "    \n",
    "    game_features = []\n",
    "    for feature in values_array:\n",
    "        # Normalizing\n",
    "        norm_feature = np.squeeze(normalize([feature], axis=1))\n",
    "\n",
    "        M_feature = np.repeat([norm_feature], f_size, axis=0)\n",
    "        for i, v in enumerate(skip_values):\n",
    "            M_feature[i] = np.roll(M_feature[i], v, axis=0)\n",
    "            \n",
    "        M_feature = M_feature[:, frames_ids]\n",
    "        \n",
    "        M_feature = np.transpose(M_feature)\n",
    "        if len(game_features) == 0:\n",
    "            game_features = M_feature\n",
    "        else:\n",
    "            game_features = np.concatenate((game_features, M_feature), axis=1)\n",
    "            \n",
    "    if len(data) == 0:\n",
    "        data = game_features\n",
    "    else:\n",
    "        data = np.concatenate((data, game_features), axis=0)\n",
    "      \n",
    "    \n",
    "gt = np.array(gt)   \n",
    "\n",
    "print(data.shape)\n",
    "print(gt.shape)"
   ]
  },
  {
   "cell_type": "code",
   "execution_count": 19,
   "metadata": {},
   "outputs": [
    {
     "name": "stdout",
     "output_type": "stream",
     "text": [
      "(219949, 976)\n",
      "(219949, 960)\n"
     ]
    }
   ],
   "source": [
    "print(games_matrix.shape)\n",
    "print(M.shape)"
   ]
  },
  {
   "cell_type": "code",
   "execution_count": null,
   "metadata": {
    "collapsed": true
   },
   "outputs": [],
   "source": []
  }
 ],
 "metadata": {
  "kernelspec": {
   "display_name": "Python 3",
   "language": "python",
   "name": "python3"
  },
  "language_info": {
   "codemirror_mode": {
    "name": "ipython",
    "version": 3
   },
   "file_extension": ".py",
   "mimetype": "text/x-python",
   "name": "python",
   "nbconvert_exporter": "python",
   "pygments_lexer": "ipython3",
   "version": "3.6.4"
  }
 },
 "nbformat": 4,
 "nbformat_minor": 1
}
