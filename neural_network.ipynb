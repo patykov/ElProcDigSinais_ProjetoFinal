{
 "cells": [
  {
   "cell_type": "code",
   "execution_count": 1,
   "metadata": {},
   "outputs": [],
   "source": [
    "import os\n",
    "import time\n",
    "import numpy as np\n",
    "import matplotlib.pyplot as plt\n",
    "\n",
    "from sklearn.metrics import average_precision_score, precision_recall_curve, precision_recall_fscore_support"
   ]
  },
  {
   "cell_type": "code",
   "execution_count": 2,
   "metadata": {},
   "outputs": [
    {
     "name": "stderr",
     "output_type": "stream",
     "text": [
      "C:\\Users\\v-pakova\\AppData\\Local\\Continuum\\anaconda3\\lib\\site-packages\\ipykernel_launcher.py:23: VisibleDeprecationWarning: Reading unicode strings without specifying the encoding argument is deprecated. Set the encoding, use None for the system default.\n"
     ]
    }
   ],
   "source": [
    "### READING DATASET ###\n",
    "\n",
    "# Paths\n",
    "dataset_path = 'Dataset'\n",
    "games_dir = next(os.walk(dataset_path))[1]\n",
    "\n",
    "tag_to_skip = ['highlights', 'highlights2', '.DS_Store', '.git']\n",
    "dt = np.dtype([('a', float), ('b', float), ('name', np.unicode_, 16)])\n",
    "\n",
    "# Iterating through games\n",
    "games_data = []\n",
    "games_path = [os.path.join(dataset_path, g) for g in games_dir]\n",
    "for path in games_path:\n",
    "    game_name = os.path.basename(path)\n",
    "    if game_name != 'ned_svk':\n",
    "        game_info = os.listdir(path)\n",
    "        data = dict()\n",
    "        for info in game_info:\n",
    "            tag_name = os.path.splitext(info)[0]\n",
    "            if tag_name not in tag_to_skip:\n",
    "                csv_file = os.path.join(path, info)\n",
    "                if tag_name == 'highlights_boundaries':\n",
    "                    data_value = np.genfromtxt(csv_file, delimiter=',', dtype=None)\n",
    "                else:\n",
    "                    data_value = np.fromfile(csv_file, dtype=np.float64)\n",
    "                data[tag_name] = data_value\n",
    "            data['name'] = game_name\n",
    "        games_data.append(data)\n",
    "\n",
    "games_backup = games_data[:]"
   ]
  },
  {
   "cell_type": "code",
   "execution_count": 3,
   "metadata": {},
   "outputs": [],
   "source": [
    "### REMOVENDO VALORES CORRELACIONADOS ###\n",
    "\n",
    "to_remove = ['em_mcs_energy', 'em_mcs_energy_diff', 'em_mcs_energy_diff_ascending']\n",
    "for game in games_data:\n",
    "    for tag in to_remove:\n",
    "        del game[tag]"
   ]
  },
  {
   "cell_type": "code",
   "execution_count": 4,
   "metadata": {},
   "outputs": [
    {
     "name": "stderr",
     "output_type": "stream",
     "text": [
      "C:\\Users\\v-pakova\\AppData\\Local\\Continuum\\anaconda3\\lib\\site-packages\\ipykernel_launcher.py:27: DeprecationWarning: in the future out of bounds indices will raise an error instead of being ignored by `numpy.delete`.\n"
     ]
    }
   ],
   "source": [
    "### CRIANDO VETOR DE GT ###\n",
    "\n",
    "normal_cases = ['Normal', 'Inicio', 'Fim']\n",
    "to_skip = ['name', 'highlights_boundaries']\n",
    "\n",
    "for game in games_data:\n",
    "    h = game['highlights_boundaries']\n",
    "    end = h[-1][0]\n",
    "    gt = np.zeros(end)\n",
    "    slices = []\n",
    "    for line in h:\n",
    "        tag = line[2].decode('UTF-8').split(' ')\n",
    "        name = [t for t in tag if t != ''][0]\n",
    "        if name not in normal_cases:\n",
    "            gt[line[0]-1:line[1]] = 1\n",
    "        else:\n",
    "            slices.append([line[0], line[1], name])\n",
    "\n",
    "    slices = slices[::-1]\n",
    "    ## Removing data not to be considered ###\n",
    "    for k, values in game.items():\n",
    "        if k not in to_skip:\n",
    "            for sl in slices:\n",
    "                if 'Fim' in sl[2]:\n",
    "                    values = np.delete(values, range(sl[0], len(values)))\n",
    "                if 'Normal' in sl[2]:\n",
    "                    values = np.delete(values, range(sl[0], sl[1]))\n",
    "                if 'Inicio' in sl[2]:\n",
    "                    values = np.delete(values, range(0, sl[0]))\n",
    "        game[k] = values\n",
    "                    \n",
    "            \n",
    "    game['gt'] = gt\n",
    "    del game['highlights_boundaries']"
   ]
  },
  {
   "cell_type": "code",
   "execution_count": 5,
   "metadata": {},
   "outputs": [],
   "source": [
    "### CORTANDO VALORES EXCEDENTES PARA QUE TODOS OS DADOS TENHAM O MESMO TAMANHO ###\n",
    "\n",
    "for game in games_data:\n",
    "    values = [len(v) for k, v in game.items() if k not in ['name']]\n",
    "    min_l = min(values)\n",
    "    for k, v in game.items():\n",
    "        if len(v) > min_l:\n",
    "            game[k] = v[:min_l]\n",
    "            \n",
    "\n",
    "### ZERO PADDING ###\n",
    "max_length = 0\n",
    "for game in games_data:\n",
    "    values = [len(v) for k, v in game.items() if k not in ['name']]\n",
    "    max_length = max(values) if max(values)>max_length else max_length\n",
    "\n",
    "for game in games_data:\n",
    "    for k, v in game.items():\n",
    "        if k not in ['name']:\n",
    "            zero_v = np.zeros(max_length)\n",
    "            if len(v) < max_length:\n",
    "                zero_v[:len(v)] = v\n",
    "                game[k] = zero_v"
   ]
  },
  {
   "cell_type": "code",
   "execution_count": 6,
   "metadata": {},
   "outputs": [
    {
     "name": "stdout",
     "output_type": "stream",
     "text": [
      "Total train: 22\n",
      "Total test: 5\n",
      "Total val: 2\n"
     ]
    }
   ],
   "source": [
    "### DIVIDING SPLITS FROM TRAIN, EVAL, TEST ###\n",
    "\n",
    "from sklearn.model_selection import train_test_split\n",
    "\n",
    "games_name = [g['name'] for g in games_data]\n",
    "games_train1, games_test = train_test_split(games_name, test_size=0.15)\n",
    "games_train2, games_val = train_test_split(games_train1, test_size=0.05)\n",
    "\n",
    "print('Total train: {}'.format(len(games_train2)))\n",
    "print('Total test: {}'.format(len(games_test)))\n",
    "print('Total val: {}'.format(len(games_val)))"
   ]
  },
  {
   "cell_type": "code",
   "execution_count": 7,
   "metadata": {},
   "outputs": [
    {
     "name": "stdout",
     "output_type": "stream",
     "text": [
      "0 - dc_hue_mean\n",
      "1 - name\n",
      "2 - dc_percent\n",
      "3 - em_cs_energy\n",
      "4 - em_cs_energy_diff\n",
      "5 - em_cs_energy_diff_ascending\n",
      "6 - em_st_energy\n",
      "7 - em_st_energy_diff\n",
      "8 - em_st_energy_diff_ascending\n",
      "9 - pc_delta\n",
      "10 - pc_rho\n",
      "11 - pc_theta\n",
      "12 - pc_var_delta\n",
      "13 - pc_var_theta\n",
      "14 - pm_pitch\n",
      "15 - pm_pitch_diff\n",
      "16 - pm_pitch_diff_ascending\n",
      "17 - gt\n",
      "\n",
      "nme_id: 1, gt_id: 17\n"
     ]
    }
   ],
   "source": [
    "for i, tag_name in enumerate(games_data[10].keys()):\n",
    "    print('{} - {}'.format(i, tag_name))\n",
    "    if tag_name == 'name':\n",
    "        name_id = i\n",
    "    if tag_name == 'gt':\n",
    "        gt_id = i\n",
    "        \n",
    "print('\\nnme_id: {}, gt_id: {}'.format(name_id, gt_id))"
   ]
  },
  {
   "cell_type": "code",
   "execution_count": 8,
   "metadata": {},
   "outputs": [
    {
     "name": "stdout",
     "output_type": "stream",
     "text": [
      "Train (2000880, 16) (2000880,)\n",
      "Test (416850, 16) (416850,)\n"
     ]
    }
   ],
   "source": [
    "X_train = []\n",
    "y_train = []\n",
    "\n",
    "for game in games_data:\n",
    "    if game['name'] in games_train1:\n",
    "        values_array = np.array(list(game.values()))\n",
    "        # Getting GT\n",
    "        y_train += list(values_array[gt_id])\n",
    "        \n",
    "        # Removing name and GT to train\n",
    "        values_array = np.delete(values_array, (max(name_id, gt_id)), axis=0)\n",
    "        values_array = np.delete(values_array, (min(name_id, gt_id)), axis=0)\n",
    "        \n",
    "        values_array = np.array(values_array[:].tolist())\n",
    "        if len(X_train) == 0:\n",
    "            X_train = np.transpose(values_array)\n",
    "        else:\n",
    "            X_train = np.concatenate((X_train, np.transpose(values_array)))\n",
    "y_train = np.array(y_train)    \n",
    "\n",
    "\n",
    "X_test = []\n",
    "y_test = []\n",
    "\n",
    "for game in games_data:\n",
    "    if game['name'] in games_test:\n",
    "        values_array = np.array(list(game.values()))\n",
    "        # Getting GT\n",
    "        y_test += list(values_array[gt_id])\n",
    "        \n",
    "        # Removing name and GT to train\n",
    "        values_array = np.delete(values_array, (max(name_id, gt_id)), axis=0)\n",
    "        values_array = np.delete(values_array, (min(name_id, gt_id)), axis=0)\n",
    "        \n",
    "        values_array = np.array(values_array[:].tolist())\n",
    "        if len(X_test) == 0:\n",
    "            X_test = np.transpose(values_array)\n",
    "        else:\n",
    "            X_test = np.concatenate((X_test, np.transpose(values_array)))\n",
    "y_test = np.array(y_test)\n",
    "            \n",
    "\n",
    "print('Train', X_train.shape, y_train.shape)\n",
    "print('Test', X_test.shape, y_test.shape)"
   ]
  },
  {
   "cell_type": "code",
   "execution_count": 9,
   "metadata": {},
   "outputs": [
    {
     "name": "stdout",
     "output_type": "stream",
     "text": [
      "training: constant learning-rate\n",
      "Training set score: 0.988129\n",
      "Training set loss: 0.063323\n",
      "training: constant with momentum\n",
      "Training set score: 0.988129\n",
      "Training set loss: 0.063274\n",
      "training: constant with Nesterov's momentum\n",
      "Training set score: 0.988129\n",
      "Training set loss: 0.063274\n",
      "training: inv-scaling learning-rate\n",
      "Training set score: 0.988129\n",
      "Training set loss: 0.063315\n",
      "training: inv-scaling with momentum\n",
      "Training set score: 0.988129\n",
      "Training set loss: 0.063255\n",
      "training: inv-scaling with Nesterov's momentum\n",
      "Training set score: 0.988129\n",
      "Training set loss: 0.063261\n",
      "training: adam\n",
      "Training set score: 0.988129\n",
      "Training set loss: 0.063280\n"
     ]
    },
    {
     "data": {
      "image/png": "[encoded data removed]",
      "text/plain": [
       "<matplotlib.figure.Figure at 0x20485aaacc0>"
      ]
     },
     "metadata": {},
     "output_type": "display_data"
    }
   ],
   "source": [
    "import matplotlib.pyplot as plt\n",
    "from sklearn.neural_network import MLPClassifier\n",
    "from sklearn.preprocessing import MinMaxScaler\n",
    "\n",
    "# different learning rate schedules and momentum parameters\n",
    "params = [{'solver': 'sgd', 'learning_rate': 'constant', 'momentum': 0,\n",
    "           'learning_rate_init': 0.2},\n",
    "          {'solver': 'sgd', 'learning_rate': 'constant', 'momentum': .9,\n",
    "           'nesterovs_momentum': False, 'learning_rate_init': 0.2},\n",
    "          {'solver': 'sgd', 'learning_rate': 'constant', 'momentum': .9,\n",
    "           'nesterovs_momentum': True, 'learning_rate_init': 0.2},\n",
    "          {'solver': 'sgd', 'learning_rate': 'invscaling', 'momentum': 0,\n",
    "           'learning_rate_init': 0.2},\n",
    "          {'solver': 'sgd', 'learning_rate': 'invscaling', 'momentum': .9,\n",
    "           'nesterovs_momentum': True, 'learning_rate_init': 0.2},\n",
    "          {'solver': 'sgd', 'learning_rate': 'invscaling', 'momentum': .9,\n",
    "           'nesterovs_momentum': False, 'learning_rate_init': 0.2},\n",
    "          {'solver': 'adam', 'learning_rate_init': 0.01}]\n",
    "\n",
    "labels = [\"constant learning-rate\", \"constant with momentum\",\n",
    "          \"constant with Nesterov's momentum\",\n",
    "          \"inv-scaling learning-rate\", \"inv-scaling with momentum\",\n",
    "          \"inv-scaling with Nesterov's momentum\", \"adam\"]\n",
    "\n",
    "plot_args = [{'c': 'red', 'linestyle': '-'},\n",
    "             {'c': 'green', 'linestyle': '-'},\n",
    "             {'c': 'blue', 'linestyle': '-'},\n",
    "             {'c': 'red', 'linestyle': '--'},\n",
    "             {'c': 'green', 'linestyle': '--'},\n",
    "             {'c': 'blue', 'linestyle': '--'},\n",
    "             {'c': 'black', 'linestyle': '-'}]\n",
    "\n",
    "\n",
    "fig, ax = plt.subplots(1, 1, figsize=(15, 10))\n",
    "X = MinMaxScaler().fit_transform(X_train)\n",
    "mlps = []\n",
    "if name == \"digits\":\n",
    "    # digits is larger but converges fairly quickly\n",
    "    max_iter = 15\n",
    "else:\n",
    "    max_iter = 400\n",
    "\n",
    "for label, param in zip(labels, params):\n",
    "    print(\"training: %s\" % label)\n",
    "    mlp = MLPClassifier(verbose=0, random_state=0,\n",
    "                        max_iter=max_iter, **param)\n",
    "    mlp.fit(X, y_train)\n",
    "    mlps.append(mlp)\n",
    "    print(\"Training set score: %f\" % mlp.score(X, y_train))\n",
    "    print(\"Training set loss: %f\" % mlp.loss_)\n",
    "for mlp, label, args in zip(mlps, labels, plot_args):\n",
    "    ax.plot(mlp.loss_curve_, label=label, **args)\n",
    "\n",
    "\n",
    "fig.legend(ax.get_lines(), labels, ncol=3, loc=\"upper center\")\n",
    "plt.show()"
   ]
  },
  {
   "cell_type": "code",
   "execution_count": 13,
   "metadata": {},
   "outputs": [
    {
     "name": "stdout",
     "output_type": "stream",
     "text": [
      "[-6.34093553e-017 -8.44037611e-017  2.30682780e-017  8.83526412e-018\n",
      "  3.62889468e-276  2.37785082e-017  4.23297220e-017  3.62889468e-276\n",
      "  1.50994948e-017  9.23853025e-277  0.00000000e+000  1.00568601e-017\n",
      " -2.81251173e-018  9.65629027e-017 -3.36649131e-017  3.62150386e-276]\n",
      "16\n"
     ]
    }
   ],
   "source": [
    "from sklearn.preprocessing import StandardScaler\n",
    "\n",
    "scaler = StandardScaler()\n",
    "# Fit only to the training data\n",
    "scaler.fit(X_train)\n",
    "\n",
    "X_train = scaler.transform(X_train)\n",
    "X_test = scaler.transform(X_test)\n",
    "\n",
    "print(scaler.mean_)\n",
    "print(len(scaler.mean_))"
   ]
  },
  {
   "cell_type": "code",
   "execution_count": 18,
   "metadata": {},
   "outputs": [
    {
     "data": {
      "text/plain": [
       "MLPClassifier(activation='relu', alpha=0.0001, batch_size='auto', beta_1=0.9,\n",
       "       beta_2=0.999, early_stopping=False, epsilon=1e-08,\n",
       "       hidden_layer_sizes=(13, 13, 13), learning_rate='constant',\n",
       "       learning_rate_init=0.001, max_iter=500, momentum=0.9,\n",
       "       nesterovs_momentum=True, power_t=0.5, random_state=None,\n",
       "       shuffle=True, solver='adam', tol=0.0001, validation_fraction=0.1,\n",
       "       verbose=False, warm_start=False)"
      ]
     },
     "execution_count": 18,
     "metadata": {},
     "output_type": "execute_result"
    }
   ],
   "source": [
    "mlp = MLPClassifier(hidden_layer_sizes=(13,13,13),max_iter=500)\n",
    "mlp.fit(X_train,y_train)"
   ]
  },
  {
   "cell_type": "code",
   "execution_count": 19,
   "metadata": {},
   "outputs": [],
   "source": [
    "predictions = mlp.predict(X_test)"
   ]
  },
  {
   "cell_type": "code",
   "execution_count": 20,
   "metadata": {},
   "outputs": [
    {
     "name": "stdout",
     "output_type": "stream",
     "text": [
      "[[412463      0]\n",
      " [  4387      0]]\n",
      "             precision    recall  f1-score   support\n",
      "\n",
      "        0.0       0.99      1.00      0.99    412463\n",
      "        1.0       0.00      0.00      0.00      4387\n",
      "\n",
      "avg / total       0.98      0.99      0.98    416850\n",
      "\n"
     ]
    },
    {
     "name": "stderr",
     "output_type": "stream",
     "text": [
      "C:\\Users\\v-pakova\\AppData\\Local\\Continuum\\anaconda3\\lib\\site-packages\\sklearn\\metrics\\classification.py:1135: UndefinedMetricWarning: Precision and F-score are ill-defined and being set to 0.0 in labels with no predicted samples.\n",
      "  'precision', 'predicted', average, warn_for)\n"
     ]
    }
   ],
   "source": [
    "from sklearn.metrics import classification_report,confusion_matrix\n",
    "\n",
    "print(confusion_matrix(y_test,predictions))\n",
    "print(classification_report(y_test,predictions))"
   ]
  },
  {
   "cell_type": "code",
   "execution_count": null,
   "metadata": {},
   "outputs": [],
   "source": []
  }
 ],
 "metadata": {
  "kernelspec": {
   "display_name": "Python 3",
   "language": "python",
   "name": "python3"
  },
  "language_info": {
   "codemirror_mode": {
    "name": "ipython",
    "version": 3
   },
   "file_extension": ".py",
   "mimetype": "text/x-python",
   "name": "python",
   "nbconvert_exporter": "python",
   "pygments_lexer": "ipython3",
   "version": "3.6.4"
  }
 },
 "nbformat": 4,
 "nbformat_minor": 1
}
