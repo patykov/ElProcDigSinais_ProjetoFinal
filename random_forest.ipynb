{
 "cells": [
  {
   "cell_type": "code",
   "execution_count": 110,
   "metadata": {
    "collapsed": true
   },
   "outputs": [],
   "source": [
    "import os\n",
    "import time\n",
    "import numpy as np\n",
    "import matplotlib.pyplot as plt\n",
    "\n",
    "from sklearn.ensemble import RandomForestClassifier\n",
    "from sklearn.datasets import make_classification\n",
    "from sklearn.metrics import average_precision_score, precision_recall_curve, precision_recall_fscore_support"
   ]
  },
  {
   "cell_type": "code",
   "execution_count": 22,
   "metadata": {
    "collapsed": false
   },
   "outputs": [],
   "source": [
    "### READING DATASET ###\n",
    "\n",
    "# Paths\n",
    "dataset_path = 'Dataset'\n",
    "games_dir = next(os.walk(dataset_path))[1]\n",
    "\n",
    "tag_to_skip = ['highlights', 'highlights2', '.DS_Store']\n",
    "dt = np.dtype([('a', float), ('b', float), ('name', np.unicode_, 16)])\n",
    "\n",
    "# Iterating through games\n",
    "games_data = []\n",
    "games_path = [os.path.join(dataset_path, g) for g in games_dir]\n",
    "for path in games_path:\n",
    "    game_name = os.path.basename(path)\n",
    "    if game_name != 'ned_svk':\n",
    "        game_info = os.listdir(path)\n",
    "        game_data = dict()\n",
    "        for info in game_info:\n",
    "            tag_name = os.path.splitext(info)[0]\n",
    "            if tag_name not in tag_to_skip:\n",
    "                csv_file = os.path.join(path, info)\n",
    "                if tag_name == 'highlights_boundaries':\n",
    "                    data_value = np.genfromtxt(csv_file, delimiter=',', dtype=None)\n",
    "                else:\n",
    "                    data_value = np.fromfile(csv_file, dtype=np.float64)\n",
    "                game_data[tag_name] = data_value\n",
    "        game_data['name'] = game_name\n",
    "        games_data.append(game_data)\n",
    "\n",
    "games_backup = games_data[:]"
   ]
  },
  {
   "cell_type": "code",
   "execution_count": 3,
   "metadata": {
    "collapsed": true
   },
   "outputs": [],
   "source": [
    "games_data = games_backup[:]"
   ]
  },
  {
   "cell_type": "code",
   "execution_count": 24,
   "metadata": {
    "collapsed": false
   },
   "outputs": [],
   "source": [
    "### CRIANDO VETOR DE GT ###\n",
    "\n",
    "normal_cases = ['Normal', 'Inicio', 'Fim']\n",
    "\n",
    "for game in games_data:\n",
    "    h = game['highlights_boundaries']\n",
    "    end = h[-1][0]\n",
    "    gt = np.zeros(end)\n",
    "    for line in h[:-1]:\n",
    "        tag = line[2].decode('UTF-8').split(' ')\n",
    "        name = [t for t in tag if t != ''][0]\n",
    "        if name not in normal_cases:\n",
    "            gt[line[0]-1:line[1]] = 1\n",
    "    game['gt'] = gt\n",
    "    del game['highlights_boundaries']"
   ]
  },
  {
   "cell_type": "code",
   "execution_count": 25,
   "metadata": {
    "collapsed": false
   },
   "outputs": [],
   "source": [
    "### REMOVENDO VALORES CORRELACIONADOS ###\n",
    "\n",
    "to_remove = ['em_mcs_energy', 'em_mcs_energy_diff', 'em_mcs_energy_diff_ascending']\n",
    "for game in games_data:\n",
    "    for tag in to_remove:\n",
    "        del game[tag]"
   ]
  },
  {
   "cell_type": "code",
   "execution_count": 26,
   "metadata": {
    "collapsed": true
   },
   "outputs": [],
   "source": [
    "### CORTANDO VALORES EXCEDENTES PARA QUE TODOS OS DADOS TENHAM O MESMO TAMANHO ###\n",
    "\n",
    "for game in games_data:\n",
    "    values = [len(v) for k, v in game.items() if k not in ['name']]\n",
    "    min_l = min(values)\n",
    "    for k, v in game.items():\n",
    "        if len(v) > min_l:\n",
    "            game[k] = v[:min_l]\n",
    "            \n",
    "\n",
    "### ZERO PADDING ###\n",
    "max_length = 0\n",
    "for game in games_data:\n",
    "    values = [len(v) for k, v in game.items() if k not in ['name']]\n",
    "    max_length = max(values) if max(values)>max_length else max_length\n",
    "\n",
    "for game in games_data:\n",
    "    for k, v in game.items():\n",
    "        if k not in ['name']:\n",
    "            zero_v = np.zeros(max_length)\n",
    "            if len(v) < max_length:\n",
    "                zero_v[:len(v)] = v\n",
    "                game[k] = zero_v"
   ]
  },
  {
   "cell_type": "code",
   "execution_count": 27,
   "metadata": {
    "collapsed": false
   },
   "outputs": [
    {
     "name": "stdout",
     "output_type": "stream",
     "text": [
      "Total train: 22\n",
      "Total test: 5\n",
      "Total val: 2\n"
     ]
    }
   ],
   "source": [
    "### DIVIDING SPLITS FROM TRAIN, EVAL, TEST ###\n",
    "\n",
    "from sklearn.model_selection import train_test_split\n",
    "\n",
    "games_name = [g['name'] for g in games_data]\n",
    "games_train1, games_test = train_test_split(games_name, test_size=0.15)\n",
    "games_train2, games_val = train_test_split(games_train1, test_size=0.05)\n",
    "\n",
    "print('Total train: {}'.format(len(games_train2)))\n",
    "print('Total test: {}'.format(len(games_test)))\n",
    "print('Total val: {}'.format(len(games_val)))"
   ]
  },
  {
   "cell_type": "code",
   "execution_count": 96,
   "metadata": {
    "collapsed": false
   },
   "outputs": [
    {
     "name": "stdout",
     "output_type": "stream",
     "text": [
      "0 - pc_var_theta\n",
      "1 - em_st_energy\n",
      "2 - pm_pitch\n",
      "3 - em_cs_energy_diff_ascending\n",
      "4 - pm_pitch_diff_ascending\n",
      "5 - pc_theta\n",
      "6 - name\n",
      "7 - em_st_energy_diff\n",
      "8 - pm_pitch_diff\n",
      "9 - em_st_energy_diff_ascending\n",
      "10 - em_cs_energy_diff\n",
      "11 - pc_delta\n",
      "12 - pc_rho\n",
      "13 - gt\n",
      "14 - dc_percent\n",
      "15 - em_cs_energy\n",
      "16 - dc_hue_mean\n",
      "17 - pc_var_delta\n"
     ]
    }
   ],
   "source": [
    "for i, tag_name in enumerate(games_data[0].keys()):\n",
    "    print('{} - {}'.format(i, tag_name))"
   ]
  },
  {
   "cell_type": "code",
   "execution_count": 75,
   "metadata": {
    "collapsed": false
   },
   "outputs": [
    {
     "name": "stdout",
     "output_type": "stream",
     "text": [
      "Train (5278776, 16) (5278776,)\n",
      "Test (1099745, 16) (1099745,)\n"
     ]
    }
   ],
   "source": [
    "name_id = 6\n",
    "gt_id = 13\n",
    "\n",
    "X_train = []\n",
    "y_train = []\n",
    "\n",
    "for game in games_data:\n",
    "    if game['name'] in games_train1:\n",
    "        values_array = np.array(list(game.values()))\n",
    "        # Getting GT\n",
    "        y_train += list(values_array[13])\n",
    "        \n",
    "        # Removing name and GT to train\n",
    "        values_array = np.delete(values_array, (6), axis=0)\n",
    "        values_array = np.delete(values_array, (13), axis=0)\n",
    "        \n",
    "        values_array = np.array(values_array[:].tolist())\n",
    "        if len(X_train) == 0:\n",
    "            X_train = np.transpose(values_array)\n",
    "        else:\n",
    "            X_train = np.concatenate((X_train, np.transpose(values_array)))\n",
    "\n",
    "y_train = np.array(y_train)    \n",
    "\n",
    "\n",
    "X_test = []\n",
    "y_test = []\n",
    "\n",
    "for game in games_data:\n",
    "    if game['name'] in games_test:\n",
    "        values_array = np.array(list(game.values()))\n",
    "        # Getting GT\n",
    "        y_test += list(values_array[13])\n",
    "        \n",
    "        # Removing name and GT to train\n",
    "        values_array = np.delete(values_array, (6), axis=0)\n",
    "        values_array = np.delete(values_array, (13), axis=0)\n",
    "        \n",
    "        values_array = np.array(values_array[:].tolist())\n",
    "        if len(X_test) == 0:\n",
    "            X_test = np.transpose(values_array)\n",
    "        else:\n",
    "            X_test = np.concatenate((X_test, np.transpose(values_array)))\n",
    "y_test = np.array(y_test)\n",
    "            \n",
    "\n",
    "print('Train', X_train.shape, y_train.shape)\n",
    "print('Test', X_test.shape, y_test.shape)"
   ]
  },
  {
   "cell_type": "code",
   "execution_count": 111,
   "metadata": {
    "collapsed": false
   },
   "outputs": [
    {
     "data": {
      "text/plain": [
       "RandomForestClassifier(bootstrap=True, class_weight=None, criterion='gini',\n",
       "            max_depth=None, max_features='auto', max_leaf_nodes=None,\n",
       "            min_impurity_split=1e-07, min_samples_leaf=1,\n",
       "            min_samples_split=2, min_weight_fraction_leaf=0.0,\n",
       "            n_estimators=10, n_jobs=1, oob_score=False, random_state=None,\n",
       "            verbose=0, warm_start=False)"
      ]
     },
     "execution_count": 111,
     "metadata": {},
     "output_type": "execute_result"
    }
   ],
   "source": [
    "clf = RandomForestClassifier()\n",
    "clf.fit(X_train, y_train)"
   ]
  },
  {
   "cell_type": "code",
   "execution_count": 112,
   "metadata": {
    "collapsed": true
   },
   "outputs": [],
   "source": [
    "y_predictions = clf.predict_proba(X_test)\n",
    "y_score = clf.predict(X_test)"
   ]
  },
  {
   "cell_type": "code",
   "execution_count": 113,
   "metadata": {
    "collapsed": false
   },
   "outputs": [
    {
     "name": "stdout",
     "output_type": "stream",
     "text": [
      "Average precision-recall score: 1.00\n",
      "Precision: [ 1.  1.]\n",
      "Recall: [ 1.  1.]\n"
     ]
    },
    {
     "data": {
      "image/png": "[encoded data removed]",
      "text/plain": [
       "<matplotlib.figure.Figure at 0x1317e30b8>"
      ]
     },
     "metadata": {},
     "output_type": "display_data"
    }
   ],
   "source": [
    "average_precision = average_precision_score(y_test, y_score)\n",
    "print('Average precision-recall score: {0:0.2f}'.format(average_precision))\n",
    "\n",
    "p_r_fs = precision_recall_fscore_support(y_test, y_score)\n",
    "print('Precision: {}'.format(p_r_fs[0]))\n",
    "print('Recall: {}'.format(p_r_fs[1]))\n",
    "\n",
    "precision, recall, _ = precision_recall_curve(y_test, y_predictions[:, 1])\n",
    "\n",
    "plt.step(recall, precision, color='b', alpha=0.2, where='post')\n",
    "plt.fill_between(recall, precision, step='post', alpha=0.2, color='b')\n",
    "\n",
    "plt.xlabel('Recall')\n",
    "plt.ylabel('Precision')\n",
    "plt.ylim([0.0, 1.05])\n",
    "plt.xlim([0.0, 1.0])\n",
    "plt.title('2-class Precision-Recall curve: AP={0:0.2f}'.format(average_precision))\n",
    "plt.show()"
   ]
  },
  {
   "cell_type": "code",
   "execution_count": 117,
   "metadata": {
    "collapsed": false,
    "scrolled": true
   },
   "outputs": [
    {
     "name": "stdout",
     "output_type": "stream",
     "text": [
      "[  4.85184465e-33   2.31575536e-52   3.85832361e-86 ...,   0.00000000e+00\n",
      "   0.00000000e+00   0.00000000e+00]\n"
     ]
    },
    {
     "name": "stderr",
     "output_type": "stream",
     "text": [
      "/Users/admin/py3env/lib/python3.5/site-packages/sklearn/metrics/classification.py:1113: UndefinedMetricWarning: Precision and F-score are ill-defined and being set to 0.0 in labels with no predicted samples.\n",
      "  'precision', 'predicted', average, warn_for)\n"
     ]
    },
    {
     "name": "stdout",
     "output_type": "stream",
     "text": [
      "pc_var_theta\n",
      "\tAverage precision-recall score: 0.51\n",
      "\tPrecision: [ 0.98706427  0.        ]\n",
      "\tRecall: [ 1.  0.]\n",
      "\tTime: 12.81879 seconds\n",
      "[  9.04921460e-043   4.18488602e-062   2.96899917e-260 ...,\n",
      "   0.00000000e+000   0.00000000e+000   0.00000000e+000]\n"
     ]
    },
    {
     "name": "stderr",
     "output_type": "stream",
     "text": [
      "/Users/admin/py3env/lib/python3.5/site-packages/sklearn/metrics/classification.py:1113: UndefinedMetricWarning: Precision and F-score are ill-defined and being set to 0.0 in labels with no predicted samples.\n",
      "  'precision', 'predicted', average, warn_for)\n"
     ]
    },
    {
     "name": "stdout",
     "output_type": "stream",
     "text": [
      "em_st_energy\n",
      "\tAverage precision-recall score: 0.51\n",
      "\tPrecision: [ 0.98706427  0.        ]\n",
      "\tRecall: [ 1.  0.]\n",
      "\tTime: 12.81552 seconds\n",
      "[  4.16304064e-245   3.85591683e-057   6.00888578e-067 ...,\n",
      "   0.00000000e+000   0.00000000e+000   0.00000000e+000]\n"
     ]
    },
    {
     "name": "stderr",
     "output_type": "stream",
     "text": [
      "/Users/admin/py3env/lib/python3.5/site-packages/sklearn/metrics/classification.py:1113: UndefinedMetricWarning: Precision and F-score are ill-defined and being set to 0.0 in labels with no predicted samples.\n",
      "  'precision', 'predicted', average, warn_for)\n"
     ]
    },
    {
     "name": "stdout",
     "output_type": "stream",
     "text": [
      "pm_pitch\n",
      "\tAverage precision-recall score: 0.51\n",
      "\tPrecision: [ 0.98706427  0.        ]\n",
      "\tRecall: [ 1.  0.]\n",
      "\tTime: 13.95709 seconds\n",
      "[  2.96620797e-260   2.96620797e-260   2.96620797e-260 ...,\n",
      "   0.00000000e+000   0.00000000e+000   0.00000000e+000]\n"
     ]
    },
    {
     "name": "stderr",
     "output_type": "stream",
     "text": [
      "/Users/admin/py3env/lib/python3.5/site-packages/sklearn/metrics/classification.py:1113: UndefinedMetricWarning: Precision and F-score are ill-defined and being set to 0.0 in labels with no predicted samples.\n",
      "  'precision', 'predicted', average, warn_for)\n"
     ]
    },
    {
     "name": "stdout",
     "output_type": "stream",
     "text": [
      "em_cs_energy_diff_ascending\n",
      "\tAverage precision-recall score: 0.51\n",
      "\tPrecision: [ 0.98706427  0.        ]\n",
      "\tRecall: [ 1.  0.]\n",
      "\tTime: 12.76949 seconds\n",
      "[  2.96620797e-260   2.96620797e-260   2.96620797e-260 ...,\n",
      "   0.00000000e+000   0.00000000e+000   0.00000000e+000]\n"
     ]
    },
    {
     "name": "stderr",
     "output_type": "stream",
     "text": [
      "/Users/admin/py3env/lib/python3.5/site-packages/sklearn/metrics/classification.py:1113: UndefinedMetricWarning: Precision and F-score are ill-defined and being set to 0.0 in labels with no predicted samples.\n",
      "  'precision', 'predicted', average, warn_for)\n"
     ]
    },
    {
     "name": "stdout",
     "output_type": "stream",
     "text": [
      "pm_pitch_diff_ascending\n",
      "\tAverage precision-recall score: 0.51\n",
      "\tPrecision: [ 0.98706427  0.        ]\n",
      "\tRecall: [ 1.  0.]\n",
      "\tTime: 12.85867 seconds\n",
      "[  2.96620797e-260   2.96620797e-260   5.76755035e-245 ...,\n",
      "   0.00000000e+000   0.00000000e+000   0.00000000e+000]\n"
     ]
    },
    {
     "name": "stderr",
     "output_type": "stream",
     "text": [
      "/Users/admin/py3env/lib/python3.5/site-packages/sklearn/metrics/classification.py:1113: UndefinedMetricWarning: Precision and F-score are ill-defined and being set to 0.0 in labels with no predicted samples.\n",
      "  'precision', 'predicted', average, warn_for)\n"
     ]
    },
    {
     "name": "stdout",
     "output_type": "stream",
     "text": [
      "pc_theta\n",
      "\tAverage precision-recall score: 0.51\n",
      "\tPrecision: [ 0.98706427  0.        ]\n",
      "\tRecall: [ 1.  0.]\n",
      "\tTime: 12.76564 seconds\n",
      "[  4.17636288e-062   8.61115299e-067   2.96660805e-260 ...,\n",
      "   0.00000000e+000   0.00000000e+000   0.00000000e+000]\n"
     ]
    },
    {
     "name": "stderr",
     "output_type": "stream",
     "text": [
      "/Users/admin/py3env/lib/python3.5/site-packages/sklearn/metrics/classification.py:1113: UndefinedMetricWarning: Precision and F-score are ill-defined and being set to 0.0 in labels with no predicted samples.\n",
      "  'precision', 'predicted', average, warn_for)\n"
     ]
    },
    {
     "name": "stdout",
     "output_type": "stream",
     "text": [
      "em_st_energy_diff\n",
      "\tAverage precision-recall score: 0.51\n",
      "\tPrecision: [ 0.98706427  0.        ]\n",
      "\tRecall: [ 1.  0.]\n",
      "\tTime: 12.60566 seconds\n",
      "[  5.31345130e-245   4.66150860e-033   4.67009164e-062 ...,\n",
      "   0.00000000e+000   0.00000000e+000   0.00000000e+000]\n"
     ]
    },
    {
     "name": "stderr",
     "output_type": "stream",
     "text": [
      "/Users/admin/py3env/lib/python3.5/site-packages/sklearn/metrics/classification.py:1113: UndefinedMetricWarning: Precision and F-score are ill-defined and being set to 0.0 in labels with no predicted samples.\n",
      "  'precision', 'predicted', average, warn_for)\n"
     ]
    },
    {
     "name": "stdout",
     "output_type": "stream",
     "text": [
      "pm_pitch_diff\n",
      "\tAverage precision-recall score: 0.51\n",
      "\tPrecision: [ 0.98706427  0.        ]\n",
      "\tRecall: [ 1.  0.]\n",
      "\tTime: 13.85853 seconds\n",
      "[  2.96620797e-260   2.96620797e-260   2.96620797e-260 ...,\n",
      "   0.00000000e+000   0.00000000e+000   0.00000000e+000]\n"
     ]
    },
    {
     "name": "stderr",
     "output_type": "stream",
     "text": [
      "/Users/admin/py3env/lib/python3.5/site-packages/sklearn/metrics/classification.py:1113: UndefinedMetricWarning: Precision and F-score are ill-defined and being set to 0.0 in labels with no predicted samples.\n",
      "  'precision', 'predicted', average, warn_for)\n"
     ]
    },
    {
     "name": "stdout",
     "output_type": "stream",
     "text": [
      "em_st_energy_diff_ascending\n",
      "\tAverage precision-recall score: 0.51\n",
      "\tPrecision: [ 0.98706427  0.        ]\n",
      "\tRecall: [ 1.  0.]\n",
      "\tTime: 12.58986 seconds\n",
      "[  1.57610813e-52   9.95279112e-43   4.42131876e-62 ...,   0.00000000e+00\n",
      "   0.00000000e+00   0.00000000e+00]\n"
     ]
    },
    {
     "name": "stderr",
     "output_type": "stream",
     "text": [
      "/Users/admin/py3env/lib/python3.5/site-packages/sklearn/metrics/classification.py:1113: UndefinedMetricWarning: Precision and F-score are ill-defined and being set to 0.0 in labels with no predicted samples.\n",
      "  'precision', 'predicted', average, warn_for)\n"
     ]
    },
    {
     "name": "stdout",
     "output_type": "stream",
     "text": [
      "em_cs_energy_diff\n",
      "\tAverage precision-recall score: 0.51\n",
      "\tPrecision: [ 0.98706427  0.        ]\n",
      "\tRecall: [ 1.  0.]\n",
      "\tTime: 13.05413 seconds\n",
      "[  2.96620797e-260   2.96620797e-260   2.96661426e-260 ...,\n",
      "   0.00000000e+000   0.00000000e+000   0.00000000e+000]\n"
     ]
    },
    {
     "name": "stderr",
     "output_type": "stream",
     "text": [
      "/Users/admin/py3env/lib/python3.5/site-packages/sklearn/metrics/classification.py:1113: UndefinedMetricWarning: Precision and F-score are ill-defined and being set to 0.0 in labels with no predicted samples.\n",
      "  'precision', 'predicted', average, warn_for)\n"
     ]
    },
    {
     "name": "stdout",
     "output_type": "stream",
     "text": [
      "pc_delta\n",
      "\tAverage precision-recall score: 0.51\n",
      "\tPrecision: [ 0.98706427  0.        ]\n",
      "\tRecall: [ 1.  0.]\n",
      "\tTime: 12.76549 seconds\n",
      "[  2.96620797e-260   2.96620797e-260   2.96939461e-260 ...,\n",
      "   0.00000000e+000   0.00000000e+000   0.00000000e+000]\n"
     ]
    },
    {
     "name": "stderr",
     "output_type": "stream",
     "text": [
      "/Users/admin/py3env/lib/python3.5/site-packages/sklearn/metrics/classification.py:1113: UndefinedMetricWarning: Precision and F-score are ill-defined and being set to 0.0 in labels with no predicted samples.\n",
      "  'precision', 'predicted', average, warn_for)\n"
     ]
    },
    {
     "name": "stdout",
     "output_type": "stream",
     "text": [
      "pc_rho\n",
      "\tAverage precision-recall score: 0.51\n",
      "\tPrecision: [ 0.98706427  0.        ]\n",
      "\tRecall: [ 1.  0.]\n",
      "\tTime: 12.50106 seconds\n",
      "[ 0.  0.  0. ...,  0.  0.  0.]\n",
      "dc_percent\n",
      "\tAverage precision-recall score: 1.00\n",
      "\tPrecision: [ 1.  1.]\n",
      "\tRecall: [ 1.  1.]\n",
      "\tTime: 12.63918 seconds\n",
      "[  1.57692220e-52   9.73449964e-72   1.74451393e-76 ...,   0.00000000e+00\n",
      "   0.00000000e+00   0.00000000e+00]\n"
     ]
    },
    {
     "name": "stderr",
     "output_type": "stream",
     "text": [
      "/Users/admin/py3env/lib/python3.5/site-packages/sklearn/metrics/classification.py:1113: UndefinedMetricWarning: Precision and F-score are ill-defined and being set to 0.0 in labels with no predicted samples.\n",
      "  'precision', 'predicted', average, warn_for)\n"
     ]
    },
    {
     "name": "stdout",
     "output_type": "stream",
     "text": [
      "em_cs_energy\n",
      "\tAverage precision-recall score: 0.51\n",
      "\tPrecision: [ 0.98706427  0.        ]\n",
      "\tRecall: [ 1.  0.]\n",
      "\tTime: 12.88499 seconds\n",
      "[  3.70980754e-245   4.91035163e-062   4.91127896e-062 ...,\n",
      "   0.00000000e+000   0.00000000e+000   0.00000000e+000]\n"
     ]
    },
    {
     "name": "stderr",
     "output_type": "stream",
     "text": [
      "/Users/admin/py3env/lib/python3.5/site-packages/sklearn/metrics/classification.py:1113: UndefinedMetricWarning: Precision and F-score are ill-defined and being set to 0.0 in labels with no predicted samples.\n",
      "  'precision', 'predicted', average, warn_for)\n"
     ]
    },
    {
     "name": "stdout",
     "output_type": "stream",
     "text": [
      "dc_hue_mean\n",
      "\tAverage precision-recall score: 0.51\n",
      "\tPrecision: [ 0.98706427  0.        ]\n",
      "\tRecall: [ 1.  0.]\n",
      "\tTime: 12.88176 seconds\n",
      "[  2.96900070e-260   2.96701280e-260   2.96898832e-260 ...,\n",
      "   0.00000000e+000   0.00000000e+000   0.00000000e+000]\n",
      "pc_var_delta\n",
      "\tAverage precision-recall score: 0.51\n",
      "\tPrecision: [ 0.98706427  0.        ]\n",
      "\tRecall: [ 1.  0.]\n",
      "\tTime: 12.54316 seconds\n"
     ]
    },
    {
     "name": "stderr",
     "output_type": "stream",
     "text": [
      "/Users/admin/py3env/lib/python3.5/site-packages/sklearn/metrics/classification.py:1113: UndefinedMetricWarning: Precision and F-score are ill-defined and being set to 0.0 in labels with no predicted samples.\n",
      "  'precision', 'predicted', average, warn_for)\n"
     ]
    }
   ],
   "source": [
    "new_keys = list(games_data[0].keys())\n",
    "new_keys.remove('gt')\n",
    "new_keys.remove('name')\n",
    "\n",
    "for feature in range(X_train.shape[1]):\n",
    "    new_X_train = X_train[:, feature]\n",
    "    new_X_test = X_test[:, feature]\n",
    "    print(new_X_train)\n",
    "    \n",
    "    start_time = time.clock()\n",
    "    new_clf = RandomForestClassifier()\n",
    "    new_clf.fit(new_X_train[:, None], y_train)\n",
    "    \n",
    "    new_y_score = new_clf.predict(new_X_test[:, None])\n",
    "    new_average_precision = average_precision_score(y_test, new_y_score)\n",
    "    new_p_r_fs = precision_recall_fscore_support(y_test, new_y_score)\n",
    "\n",
    "    print(new_keys[feature])\n",
    "    print('\\tAverage precision-recall score: {0:0.2f}'.format(new_average_precision))\n",
    "    print('\\tPrecision: {}'.format(new_p_r_fs[0]))\n",
    "    print('\\tRecall: {}'.format(new_p_r_fs[1]))\n",
    "    print('\\tTime: {:.5f} seconds'.format(time.clock() - start_time))\n",
    "    "
   ]
  },
  {
   "cell_type": "code",
   "execution_count": 125,
   "metadata": {
    "collapsed": false
   },
   "outputs": [
    {
     "name": "stdout",
     "output_type": "stream",
     "text": [
      "(10557552,)\n"
     ]
    },
    {
     "ename": "Exception",
     "evalue": "",
     "output_type": "error",
     "traceback": [
      "\u001b[0;31m---------------------------------------------------------------------------\u001b[0m",
      "\u001b[0;31mException\u001b[0m                                 Traceback (most recent call last)",
      "\u001b[0;32m<ipython-input-125-0e880bd555fc>\u001b[0m in \u001b[0;36m<module>\u001b[0;34m()\u001b[0m\n\u001b[1;32m     13\u001b[0m \u001b[0;34m\u001b[0m\u001b[0m\n\u001b[1;32m     14\u001b[0m         \u001b[0mprint\u001b[0m\u001b[0;34m(\u001b[0m\u001b[0mnew_X_train\u001b[0m\u001b[0;34m.\u001b[0m\u001b[0mshape\u001b[0m\u001b[0;34m)\u001b[0m\u001b[0;34m\u001b[0m\u001b[0m\n\u001b[0;32m---> 15\u001b[0;31m         \u001b[0;32mraise\u001b[0m \u001b[0mException\u001b[0m\u001b[0;34m\u001b[0m\u001b[0m\n\u001b[0m\u001b[1;32m     16\u001b[0m \u001b[0;34m\u001b[0m\u001b[0m\n\u001b[1;32m     17\u001b[0m         \u001b[0mstart_time\u001b[0m \u001b[0;34m=\u001b[0m \u001b[0mtime\u001b[0m\u001b[0;34m.\u001b[0m\u001b[0mclock\u001b[0m\u001b[0;34m(\u001b[0m\u001b[0;34m)\u001b[0m\u001b[0;34m\u001b[0m\u001b[0m\n",
      "\u001b[0;31mException\u001b[0m: "
     ]
    }
   ],
   "source": [
    "new_keys = list(games_data[0].keys())\n",
    "new_keys.remove('gt')\n",
    "new_keys.remove('name')\n",
    "\n",
    "for feature1 in range(X_train.shape[1]):\n",
    "    new_X_train1 = X_train[:, feature1]\n",
    "    new_X_test1 = X_test[:, feature1]\n",
    "    for feature2 in range(feature1, X_train.shape[1]):\n",
    "        new_X_train2 = X_train[:, feature2]\n",
    "        new_X_test2 = X_test[:, feature2]\n",
    "        \n",
    "        new_X_train = np.concatenate((new_X_train1, new_X_train2), axis=0)\n",
    "        \n",
    "        print(new_X_train.shape)\n",
    "        raise Exception\n",
    "\n",
    "        start_time = time.clock()\n",
    "        new_clf = RandomForestClassifier()\n",
    "        new_clf.fit(new_X_train[:, None], y_train)\n",
    "\n",
    "        new_y_score = new_clf.predict(new_X_test[:, None])\n",
    "        new_average_precision = average_precision_score(y_test, new_y_score)\n",
    "        new_p_r_fs = precision_recall_fscore_support(y_test, new_y_score)\n",
    "\n",
    "        print(new_keys[feature])\n",
    "        print('\\tAverage precision-recall score: {0:0.2f}'.format(new_average_precision))\n",
    "        print('\\tPrecision: {}'.format(new_p_r_fs[0]))\n",
    "        print('\\tRecall: {}'.format(new_p_r_fs[1]))\n",
    "        print('\\tTime: {:.5f} seconds'.format(time.clock() - start_time))"
   ]
  },
  {
   "cell_type": "code",
   "execution_count": 102,
   "metadata": {
    "collapsed": false
   },
   "outputs": [
    {
     "data": {
      "text/plain": [
       "['pc_var_theta',\n",
       " 'em_st_energy',\n",
       " 'pm_pitch',\n",
       " 'em_cs_energy_diff_ascending',\n",
       " 'pm_pitch_diff_ascending',\n",
       " 'pc_theta',\n",
       " 'em_st_energy_diff',\n",
       " 'pm_pitch_diff',\n",
       " 'em_st_energy_diff_ascending',\n",
       " 'em_cs_energy_diff',\n",
       " 'pc_delta',\n",
       " 'pc_rho',\n",
       " 'dc_percent',\n",
       " 'em_cs_energy',\n",
       " 'dc_hue_mean',\n",
       " 'pc_var_delta']"
      ]
     },
     "execution_count": 102,
     "metadata": {},
     "output_type": "execute_result"
    }
   ],
   "source": [
    "new_keys"
   ]
  },
  {
   "cell_type": "code",
   "execution_count": null,
   "metadata": {
    "collapsed": true
   },
   "outputs": [],
   "source": []
  }
 ],
 "metadata": {
  "kernelspec": {
   "display_name": "Python 3",
   "language": "python",
   "name": "python3"
  },
  "language_info": {
   "codemirror_mode": {
    "name": "ipython",
    "version": 3
   },
   "file_extension": ".py",
   "mimetype": "text/x-python",
   "name": "python",
   "nbconvert_exporter": "python",
   "pygments_lexer": "ipython3",
   "version": "3.5.2"
  }
 },
 "nbformat": 4,
 "nbformat_minor": 1
}
